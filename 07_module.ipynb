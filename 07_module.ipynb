{
 "cells": [
  {
   "attachments": {},
   "cell_type": "markdown",
   "metadata": {},
   "source": [
    "# The Naive Bayes Algorithm\n",
    "\n",
    "## A Spam Filter\n",
    "\n",
    "Spam is most commonly associated with emails. For instance, unwanted and unsolicited advertising emails are usually classified as spam. Spamming, however, occurs in ways and environments that don't necessarily relate to emails:\n",
    "\n",
    "+ Articles or blog posts can be spammed with comments — the comments are ads or they are repetitive.\n",
    "+ An educational forum may be spammed with posts that are, in fact, ads.\n",
    "+ Mobile phone users may receive unwanted and unsolicited SMS messages, usually about advertising.\n",
    "\n",
    "In our lessons, we're going to build a spam filter specifically directed at preventing mobile phone spam. The filter will be able to analyze new messages and tell whether they are spam or not — this way, we might be able to prevent spam from bothering mobile phone users.\n",
    "\n",
    "To build the spam filter, we're going to use an algorithm called Naive Bayes — as the name suggests, the algorithm is based on Bayes' theorem.\n",
    "\n",
    "This lesson explores the theoretical side of the algorithm and is dedicated to helping you understand how the algorithm works. In the project lesson, which is a guided project, we'll apply the algorithm to a dataset of over 5,000 SMS messages.\n"
   ]
  },
  {
   "attachments": {},
   "cell_type": "markdown",
   "metadata": {},
   "source": [
    "## Naive Bayes Overview\n",
    "\n",
    "Imagine we just got a new SMS message:\n",
    "\n",
    "+ \"WINNER! You have 8 hours to claim your money by calling 090061701461. Claim code: KL341.\"\n",
    "\n",
    "This must be spam, but how could we create an algorithm that reaches the same conclusion? One thing we might think of is to create a list of words that occur frequently in spam messages, and then write a bunch of if statements:\n",
    "\n",
    "+ If the word \"money\" is in the message, then classify the message as spam.\n",
    "+ If the words \"secret\" and \"money\" are both in the message, then classify the message as spam; etc.\n",
    "\n",
    "However, as messages become numerous and more complex, coming up with the right if statements will slowly become very difficult.\n",
    "\n",
    "Another solution would be to classify a couple of messages ourselves and make the computer learn from our classification. And this is exactly what the Naive Bayes algorithm is about: It makes the computer learn from the classification a humans does, and then the computer uses that knowledge to classify new messages.\n",
    "\n",
    "The computer uses the specifications of the Naive Bayes algorithm to learn how we classify messages (what counts as spam and non-spam for us), and then it uses that human knowledge to estimate probabilities for new messages. Following the specifications of the algorithm, the computer tries to answer two conditional probability questions:\n",
    "\n",
    "\\begin{equation}\n",
    "P(Spam | New\\ message) = ?\n",
    "\\end{equation}\n",
    "\n",
    "\\begin{equation}\n",
    "P(Spam^C |New\\ message) = ?\n",
    "\\end{equation}"
   ]
  },
  {
   "attachments": {},
   "cell_type": "markdown",
   "metadata": {},
   "source": [
    "In plain English, these two questions are:\n",
    "\n",
    "+ What's the probability that this new message is spam, given its content (its words, punctuation, letter case, etc.)?\n",
    "+ What's the probability that this new message is non-spam, given its content?\n",
    "\n",
    "Once it has an answer to these two questions, the computer classifies the message as spam or non-spam based on the probability values. If the probability for spam is greater, then the message is classified as spam. Otherwise, it goes into the non-spam category."
   ]
  },
  {
   "attachments": {},
   "cell_type": "markdown",
   "metadata": {},
   "source": [
    "## Using Bayes' Theorem"
   ]
  }
 ],
 "metadata": {
  "language_info": {
   "name": "python"
  },
  "orig_nbformat": 4
 },
 "nbformat": 4,
 "nbformat_minor": 2
}
