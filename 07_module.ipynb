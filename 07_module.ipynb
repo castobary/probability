{
 "cells": [
  {
   "attachments": {},
   "cell_type": "markdown",
   "metadata": {},
   "source": [
    "# The Naive Bayes Algorithm\n",
    "\n",
    "## A Spam Filter\n",
    "\n",
    "Spam is most commonly associated with emails. For instance, unwanted and unsolicited advertising emails are usually classified as spam. Spamming, however, occurs in ways and environments that don't necessarily relate to emails:\n",
    "\n",
    "+ Articles or blog posts can be spammed with comments — the comments are ads or they are repetitive.\n",
    "+ An educational forum may be spammed with posts that are, in fact, ads.\n",
    "+ Mobile phone users may receive unwanted and unsolicited SMS messages, usually about advertising.\n",
    "\n",
    "In our lessons, we're going to build a spam filter specifically directed at preventing mobile phone spam. The filter will be able to analyze new messages and tell whether they are spam or not — this way, we might be able to prevent spam from bothering mobile phone users.\n",
    "\n",
    "To build the spam filter, we're going to use an algorithm called Naive Bayes — as the name suggests, the algorithm is based on Bayes' theorem.\n",
    "\n",
    "This lesson explores the theoretical side of the algorithm and is dedicated to helping you understand how the algorithm works. In the project lesson, which is a guided project, we'll apply the algorithm to a dataset of over 5,000 SMS messages.\n"
   ]
  },
  {
   "attachments": {},
   "cell_type": "markdown",
   "metadata": {},
   "source": [
    "## Naive Bayes Overview\n",
    "\n",
    "Imagine we just got a new SMS message:\n",
    "\n",
    "+ \"WINNER! You have 8 hours to claim your money by calling 090061701461. Claim code: KL341.\"\n",
    "\n",
    "This must be spam, but how could we create an algorithm that reaches the same conclusion? One thing we might think of is to create a list of words that occur frequently in spam messages, and then write a bunch of if statements:\n",
    "\n",
    "+ If the word \"money\" is in the message, then classify the message as spam.\n",
    "+ If the words \"secret\" and \"money\" are both in the message, then classify the message as spam; etc.\n",
    "\n",
    "However, as messages become numerous and more complex, coming up with the right if statements will slowly become very difficult.\n",
    "\n",
    "Another solution would be to classify a couple of messages ourselves and make the computer learn from our classification. And this is exactly what the Naive Bayes algorithm is about: It makes the computer learn from the classification a humans does, and then the computer uses that knowledge to classify new messages.\n",
    "\n",
    "The computer uses the specifications of the Naive Bayes algorithm to learn how we classify messages (what counts as spam and non-spam for us), and then it uses that human knowledge to estimate probabilities for new messages. Following the specifications of the algorithm, the computer tries to answer two conditional probability questions:\n",
    "\n",
    "\\begin{equation}\n",
    "P(Spam | New\\ message) = ?\n",
    "\\end{equation}\n",
    "\n",
    "\\begin{equation}\n",
    "P(Spam^C |New\\ message) = ?\n",
    "\\end{equation}"
   ]
  },
  {
   "attachments": {},
   "cell_type": "markdown",
   "metadata": {},
   "source": [
    "In plain English, these two questions are:\n",
    "\n",
    "+ What's the probability that this new message is spam, given its content (its words, punctuation, letter case, etc.)?\n",
    "+ What's the probability that this new message is non-spam, given its content?\n",
    "\n",
    "Once it has an answer to these two questions, the computer classifies the message as spam or non-spam based on the probability values. If the probability for spam is greater, then the message is classified as spam. Otherwise, it goes into the non-spam category."
   ]
  },
  {
   "attachments": {},
   "cell_type": "markdown",
   "metadata": {},
   "source": [
    "## Using Bayes' Theorem\n",
    "\n",
    "On the previous lesson, we saw an overview of how the computer may classify new messages using the Naive Bayes algorithm:\n",
    "\n",
    "+ The computer learns how humans classify messages.\n",
    "+ Then it uses that human knowledge to estimate probabilities for new messages — probabilities for spam and non-spam.\n",
    "+ Finally, the computer classifies a new message based on the probability values it calculated in step 2 — if the probability for spam is greater, then it classifies the message as spam. Otherwise, it classifies it as non-spam (if the two probability values are equal, then we may want a human to classify the message — we'll come back to this issue in the guided project).\n",
    "\n",
    "We saw on the previous lesson that when a new message comes in, the algorithm requires the computer to calculate the following probabilities:\n",
    "\n",
    "\\begin{equation}\n",
    "P(Spam | New\\ message) =\\ ?\n",
    "\\end{equation}\n",
    "\n",
    "\\begin{equation}\n",
    "P(Spam^C |New\\ message) =\\ ?\n",
    "\\end{equation}\n",
    "\n",
    "Let's take the first equation and expand it using Bayes' theorem:\n",
    "\n",
    "\\begin{equation}\n",
    "P(Spam | New\\ message) = \\frac{P(Spam) \\cdot P(New\\ Message | Spam)}{P(New\\ message)}\n",
    "\\end{equation}\n",
    "\n",
    "Now let's do the same for the second equation:\n",
    "\n",
    "\\begin{equation}\n",
    "P(Spam^C | New\\ message) = \\frac{P(Spam^C) \\cdot P(New\\ Message | Spam^C)}{P(New\\ message)}\n",
    "\\end{equation}\n",
    "\n",
    "For the sake of example, let's assume the following probabilities are already known:"
   ]
  },
  {
   "attachments": {},
   "cell_type": "markdown",
   "metadata": {},
   "source": [
    "\\begin{aligned}\n",
    "&P(Spam) = 0.5 \\\\\n",
    "&P(Spam^C) = 0.5 \\\\\n",
    "&P(New\\ message) = 0.4167 \\\\\n",
    "&P(New\\ Message | Spam) = 0.5 \\\\\n",
    "&P(New\\ Message | Spam^C) = 0.3334\n",
    "\\end{aligned}"
   ]
  },
  {
   "attachments": {},
   "cell_type": "markdown",
   "metadata": {},
   "source": [
    "If the computer knows these values, then it can calculate the probabilities it needs to classify a new message:\n",
    "\n",
    "\\begin{equation}\n",
    "P(Spam | New\\ message) = \\frac{0.5 \\cdot 0.5}{0.4167} = 0.6\n",
    "\\end{equation}\n",
    "\n",
    "\\begin{equation}\n",
    "P(Spam^C | New\\ message) = \\frac{0.5 \\cdot 0.3334}{0.4167} = 0.4\n",
    "\\end{equation}"
   ]
  },
  {
   "attachments": {},
   "cell_type": "markdown",
   "metadata": {},
   "source": [
    "since\n",
    "\n",
    "\\begin{equation}\n",
    "P(Spam | New\\ message) > P(Spam^C | New\\ message)\n",
    "\\end{equation}"
   ]
  },
  {
   "attachments": {},
   "cell_type": "markdown",
   "metadata": {},
   "source": [
    " the computer will classify the new message as spam."
   ]
  },
  {
   "attachments": {},
   "cell_type": "markdown",
   "metadata": {},
   "source": [
    "### Task\n",
    "\n",
    "A new mobile message has been received: \"URGENT!! You have one day left to claim your $873 prize.\" The following probabilities are known:\n",
    "\n",
    "\\begin{aligned}\n",
    "&P(Spam) = 0.5 \\\\\n",
    "&P(Spam^C) = 0.5 \\\\\n",
    "&P(New\\ message) = 0.5417 \\\\\n",
    "&P(New\\ Message | Spam) = 0.75 \\\\\n",
    "&P(New\\ Message | Spam^C) = 0.3334\n",
    "\\end{aligned}\n",
    "\n",
    "Classify this new message as spam or non-spam:\n",
    "\n",
    "1. Calculate P(Spam|New Message). Assign your answer to p_spam_given_new_message.\n",
    "2. Calculate P(Spam<sup>c</sup>|New Message). Assign your answer to p_non_spam_given_new_message.\n",
    "3. Classify the message by comparing the probability values. If the message is spam, then assign the string 'spam' to the variable classification. Otherwise, assign the string 'non-spam'.\n"
   ]
  },
  {
   "cell_type": "code",
   "execution_count": 1,
   "metadata": {},
   "outputs": [
    {
     "name": "stdout",
     "output_type": "stream",
     "text": [
      "True\n"
     ]
    }
   ],
   "source": [
    "p_spam = 0.5\n",
    "p_non_spam = 0.5\n",
    "p_new_message = 0.5417\n",
    "p_new_message_given_spam = 0.75\n",
    "p_new_message_given_non_spam = 0.3334\n",
    "\n",
    "p_spam_given_new_message = p_spam * p_new_message_given_spam/p_new_message\n",
    "p_non_spam_given_new_message = p_non_spam * p_new_message_given_non_spam/p_new_message\n",
    "\n",
    "print(p_spam_given_new_message > p_non_spam_given_new_message)\n",
    "\n",
    "classification = 'spam'"
   ]
  }
 ],
 "metadata": {
  "kernelspec": {
   "display_name": "Python 3",
   "language": "python",
   "name": "python3"
  },
  "language_info": {
   "codemirror_mode": {
    "name": "ipython",
    "version": 3
   },
   "file_extension": ".py",
   "mimetype": "text/x-python",
   "name": "python",
   "nbconvert_exporter": "python",
   "pygments_lexer": "ipython3",
   "version": "3.10.9"
  },
  "orig_nbformat": 4,
  "vscode": {
   "interpreter": {
    "hash": "0e1f169f5711a90ff09b1ce155e8835a9bac5ac4c242468736f19be364069406"
   }
  }
 },
 "nbformat": 4,
 "nbformat_minor": 2
}
