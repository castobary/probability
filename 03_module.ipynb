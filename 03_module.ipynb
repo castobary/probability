{
 "cells": [
  {
   "attachments": {},
   "cell_type": "markdown",
   "metadata": {},
   "source": [
    "### Complex Probability Problems\n",
    "\n",
    "Some complex problems we will be able to solve at the end of this session\n",
    "\n",
    "\n",
    "+ What is the probability that it takes three flips or more for a coin to land heads up?\n",
    "+ What is the probability of a coin landing heads up 18 times in a row?\n",
    "+ What is the probability of getting at least one 6 in four throws of a single six-sided die?\n",
    "+ What is the probability of getting at least one double-six in 24 throws of two six-sided dice?\n",
    "+ What is the probability of getting four aces in a row when drawing cards from a standard 52-card deck?\n"
   ]
  },
  {
   "attachments": {},
   "cell_type": "markdown",
   "metadata": {},
   "source": [
    "### Task\n",
    "\n",
    "+  An advertisement company runs a quick test and shows two ads on the same web page (ad \"A\" and ad \"B\") to 100 users. At the end of the trial, they found:\n",
    "    + 12 users clicked on ad \"A\"\n",
    "    + 17 users clicked on ad \"B\"\n",
    "    + 3 users clicked on both ad \"A\" and ad \"B\"\n",
    "\n",
    "+ Find:\n",
    "    + The empirical probability that a user clicks on ad \"A.\" Assign your result to p_a.\n",
    "    + The empirical probability that a user clicks on ad \"B.\" Assign your result to p_b.\n",
    "    + The empirical probability that a user clicks on both ad \"A\" and ad \"B.\" Assign your result to p_a_and_b.\n",
    "    + The probability that a user clicks on either ad \"A\" or ad \"B.\" Assign your result to p_a_or_b. For this exercise, keep in mind a user can click on both ads, so the events are not mutually exclusive — use the addition rule.\n"
   ]
  },
  {
   "cell_type": "code",
   "execution_count": 4,
   "metadata": {},
   "outputs": [],
   "source": [
    "p_a = 12/100"
   ]
  },
  {
   "cell_type": "code",
   "execution_count": 5,
   "metadata": {},
   "outputs": [],
   "source": [
    "p_b=17/100"
   ]
  },
  {
   "cell_type": "code",
   "execution_count": 6,
   "metadata": {},
   "outputs": [],
   "source": [
    "p_a_and_b=3/100"
   ]
  },
  {
   "cell_type": "code",
   "execution_count": 7,
   "metadata": {},
   "outputs": [],
   "source": [
    "p_a_or_b= p_a + p_b - p_a_and_b"
   ]
  },
  {
   "attachments": {},
   "cell_type": "markdown",
   "metadata": {},
   "source": [
    "## Opposite Events"
   ]
  },
  {
   "attachments": {},
   "cell_type": "markdown",
   "metadata": {},
   "source": [
    "A company that develops a time-tracking tool sells two kinds of subscription: basic and premium. When a new user tries the product, there's a 0.2 probability the user buys the basic subscription and 0.15 he buys premium. Find:\n",
    "\n",
    "+ The probability that a new user doesn't buy a basic subscription (you'll need to use the P(E) = 1 - P(non-E) formula). Assign your result to p_non_basic.\n",
    "+ The probability that a new user doesn't buy a premium subscription. Assign your result to p_non_premium.\n",
    "+ The probability that a user buys either basic or premium. Assign your result to p_subscription (assume buying basic and buying premium are mutually exclusive).\n",
    "    The probability that a new user doesn't buy a subscription. Assign your result to p_non_subscription.\n"
   ]
  },
  {
   "cell_type": "code",
   "execution_count": 8,
   "metadata": {},
   "outputs": [],
   "source": [
    "p_non_basic = 1 - 0.2"
   ]
  },
  {
   "cell_type": "code",
   "execution_count": 9,
   "metadata": {},
   "outputs": [],
   "source": [
    "p_non_premium= 1 - 0.15"
   ]
  },
  {
   "cell_type": "code",
   "execution_count": 12,
   "metadata": {},
   "outputs": [],
   "source": [
    "p_subscription = 0.2 + 0.15"
   ]
  },
  {
   "cell_type": "code",
   "execution_count": 11,
   "metadata": {},
   "outputs": [],
   "source": [
    "p_non_subscription = 1 - p_subscription"
   ]
  },
  {
   "attachments": {},
   "cell_type": "markdown",
   "metadata": {},
   "source": [
    "### Set Compliments\n",
    "\n",
    "An advertisement company monitors the activity for a specific ad and shows it repeatedly to the same users (so a single user sees the ad multiple times). Regardless of the number of times the ad is shown to a user, the probability that the user clicks on the ad is 0.5. Find:\n",
    "\n",
    "+ The probability that a user doesn't click on the ad. Assign your answer to p_non_click.\n",
    "+ The probability that it takes two times or less for a user to click on the ad. Assign your answer to p_two_or_less.\n",
    "+ The probability that it takes three times or more for a user to click on the ad. Assign your answer to p_three_or_more.\n"
   ]
  },
  {
   "cell_type": "code",
   "execution_count": 13,
   "metadata": {},
   "outputs": [],
   "source": [
    "p_non_click = 1 - 0.5\n",
    "p_two_or_less = 3/4\n",
    "p_three_or_more = 1 - 3/4"
   ]
  }
 ],
 "metadata": {
  "kernelspec": {
   "display_name": "base",
   "language": "python",
   "name": "python3"
  },
  "language_info": {
   "codemirror_mode": {
    "name": "ipython",
    "version": 3
   },
   "file_extension": ".py",
   "mimetype": "text/x-python",
   "name": "python",
   "nbconvert_exporter": "python",
   "pygments_lexer": "ipython3",
   "version": "3.9.12"
  },
  "orig_nbformat": 4,
  "vscode": {
   "interpreter": {
    "hash": "d0028ce20b428eb90286e675cfc9d586ae702ba0463c3d3b035a87d9639116bc"
   }
  }
 },
 "nbformat": 4,
 "nbformat_minor": 2
}
