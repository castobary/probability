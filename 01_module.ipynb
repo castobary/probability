{
 "cells": [
  {
   "attachments": {},
   "cell_type": "markdown",
   "metadata": {},
   "source": [
    "Probability is the branch of mathematics concerning numerical descriptions of how likely an event is to occur, or how likely it is that a proposition is true. \n",
    "\n",
    "The probability of an event is a number between 0 and 1, where, roughly speaking, 0 indicates impossibility of the event and 1 indicates certainty. \n",
    "\n",
    "The higher the probability of an event, the more likely it is that the event will occur. A simple example is the tossing of a fair (unbiased) coin. Since the coin is fair, the two outcomes (\"heads\" and \"tails\") are both equally probable; the probability of \"heads\" equals the probability of \"tails\"; and since no other outcomes are possible, the probability of either \"heads\" or \"tails\" is 1/2 (which could also be written as 0.5 or 50%)."
   ]
  },
  {
   "attachments": {},
   "cell_type": "markdown",
   "metadata": {},
   "source": [
    "#### Random Experiment\n",
    "\n",
    "A random experiment is any process for which we can't predict outcomes with certainty."
   ]
  },
  {
   "attachments": {},
   "cell_type": "markdown",
   "metadata": {},
   "source": [
    "Although we can't predict the outcome of a random experiment, we can at least estimate the probability (the chances) associated with its outcomes. A coin toss has two possible outcomes, and we can estimate the probability associated with the coin landing on heads or tails."
   ]
  },
  {
   "attachments": {},
   "cell_type": "markdown",
   "metadata": {},
   "source": [
    "When we calculate the probability of an event by performing an experiment one or more times, we calculate the __experimental — or empirical probability__ — of the event. "
   ]
  },
  {
   "attachments": {},
   "cell_type": "markdown",
   "metadata": {},
   "source": [
    "### Task\n",
    "\n",
    "1. We tossed a coin 300 times and got tails 162 times.\n",
    "    + Find the probability of getting heads. Assign your result to p_heads_1.\n",
    "    + Transform the probability in p_heads_1 to a percentage value. Assign the result to percentage_1.\n",
    "\n",
    "2. In a different trial, we tossed a coin 5,000 times and got tails 2,450 times.\n",
    "    + Find the probability of getting heads. Assign your result to p_heads_2.\n",
    "    + Transform the probability in p_heads_2 to a percentage value. Assign the result to percentage_2.\n"
   ]
  },
  {
   "cell_type": "code",
   "execution_count": 1,
   "metadata": {},
   "outputs": [],
   "source": [
    "p_heads_1 = 162/300"
   ]
  },
  {
   "cell_type": "code",
   "execution_count": 2,
   "metadata": {},
   "outputs": [
    {
     "data": {
      "text/plain": [
       "54.0"
      ]
     },
     "execution_count": 2,
     "metadata": {},
     "output_type": "execute_result"
    }
   ],
   "source": [
    "p_heads_1*100"
   ]
  },
  {
   "cell_type": "code",
   "execution_count": 3,
   "metadata": {},
   "outputs": [],
   "source": [
    "p_head_2 = 2450/5000"
   ]
  },
  {
   "cell_type": "code",
   "execution_count": 4,
   "metadata": {},
   "outputs": [
    {
     "data": {
      "text/plain": [
       "49.0"
      ]
     },
     "execution_count": 4,
     "metadata": {},
     "output_type": "execute_result"
    }
   ],
   "source": [
    "p_head_2 *100"
   ]
  },
  {
   "attachments": {},
   "cell_type": "markdown",
   "metadata": {},
   "source": [
    "#### Repeating Experiment\n",
    "\n",
    "Use Python to simulate a coin toss 10,000 times and watch how P(H) evolves as the number of tosses increases. We begin by writing a function named `coin_toss()` that can simulate a single coin toss: "
   ]
  },
  {
   "cell_type": "code",
   "execution_count": 5,
   "metadata": {},
   "outputs": [
    {
     "data": {
      "text/plain": [
       "'HEAD'"
      ]
     },
     "execution_count": 5,
     "metadata": {},
     "output_type": "execute_result"
    }
   ],
   "source": [
    "from numpy.random import seed, randint\n",
    "\n",
    "seed(1)\n",
    "\n",
    "def coin_toss():\n",
    "    if randint(0, 2) == 1:\n",
    "        return 'HEAD'\n",
    "    else:\n",
    "        return 'TAIL'\n",
    "\n",
    "coin_toss()"
   ]
  },
  {
   "attachments": {},
   "cell_type": "markdown",
   "metadata": {},
   "source": [
    "We're going to repeat the coin toss 10,000 times, and for each toss we want to save the value of P(H) up to that point.\n",
    "\n",
    "For each of the 10,000 iterations of a for loop:\n",
    "\n",
    "+ Save the outcome of the `coin_toss()` function to a variable named outcome.\n",
    "+ If outcome stores the string 'HEAD', then increase the value of heads by 1.\n",
    "+ Divide heads by n to get the current value of P(H). Assign the value to current_probability.\n",
    "    + n comes from for n in `range(1, 10001)`\n",
    "+ Append current_probability to the list probabilities. The probabilities should be expressed as proportions, not percentages.\n",
    "\n",
    "Print the first and last 10 values in probabilities to inspect the evolution of P(H). What do you observe? We'll talk more about this on the next screen.\n"
   ]
  },
  {
   "cell_type": "code",
   "execution_count": 21,
   "metadata": {},
   "outputs": [],
   "source": [
    "probabilities = []\n",
    "heads = 0\n",
    "for i in range(1,10001):\n",
    "    outcome = coin_toss()\n",
    "    if outcome == 'HEAD':\n",
    "        heads += 1\n",
    "    probability = heads/i\n",
    "    probabilities.append(probability)"
   ]
  },
  {
   "cell_type": "code",
   "execution_count": 22,
   "metadata": {},
   "outputs": [
    {
     "name": "stdout",
     "output_type": "stream",
     "text": [
      "[0.0, 0.0, 0.0, 0.0, 0.2, 0.3333333333333333, 0.2857142857142857, 0.375, 0.4444444444444444, 0.4]\n"
     ]
    }
   ],
   "source": [
    "print(probabilities[:10])"
   ]
  },
  {
   "cell_type": "code",
   "execution_count": 23,
   "metadata": {},
   "outputs": [
    {
     "name": "stdout",
     "output_type": "stream",
     "text": [
      "[0.5010509458512662, 0.5011008807045636, 0.5011508055638947, 0.5012007204322594, 0.5011505752876438, 0.5012004801920769, 0.5012503751125338, 0.5013002600520104, 0.5012501250125012, 0.5012]\n"
     ]
    }
   ],
   "source": [
    "print(probabilities[-10:])"
   ]
  },
  {
   "attachments": {},
   "cell_type": "markdown",
   "metadata": {},
   "source": [
    "### The True Probability Value"
   ]
  },
  {
   "attachments": {},
   "cell_type": "markdown",
   "metadata": {},
   "source": [
    "Plotting the results of the prevous analysis gives\n",
    "\n",
    "![function](img/pr1m1_plotline.png)"
   ]
  },
  {
   "attachments": {},
   "cell_type": "markdown",
   "metadata": {},
   "source": [
    "Above, we see that for the first 1,000 tosses or so, the value of P(H) varies a lot, with a maximum of 1.0 and a minimum of approximately 0.45. However, as the number of tosses increases, the value of P(H) tends to stabilize.\n",
    "\n",
    "Interestingly enough, P(H) stabilizes around the true value of P(H), which we assumed to be P(H) = 50% = 0.50 on the last screen. This suggests that the greater the number of coin tosses, the closer P(H) gets to the true value. If we take a look at the last few probabilities and round them all to two decimal places, we can see the values are all 0.50 (the values below are not yet rounded to two decimal places):"
   ]
  },
  {
   "cell_type": "code",
   "execution_count": 24,
   "metadata": {},
   "outputs": [
    {
     "data": {
      "text/plain": [
       "[0.5012004801920769,\n",
       " 0.5012503751125338,\n",
       " 0.5013002600520104,\n",
       " 0.5012501250125012,\n",
       " 0.5012]"
      ]
     },
     "execution_count": 24,
     "metadata": {},
     "output_type": "execute_result"
    }
   ],
   "source": [
    "probabilities[-5:]"
   ]
  },
  {
   "cell_type": "markdown",
   "metadata": {},
   "source": [
    "This gives us some insight into our initial question, which was: if different numbers of tosses give different probability values, then what's the true value of P(H)? The true P(H) is given by the relative frequency (expressed as proportion or percentage) of heads as the number of coin tosses increases without bound — the more we repeat the toss, the closer we should be to the true probability.\n",
    "\n",
    "Generally, the probability of an event (a coin landing heads up, getting a 5 when we roll a die, etc.) approaches the true probability value as the number of trials of the random experiment (a coin toss, the rolling of a die, etc.) increases without bound."
   ]
  },
  {
   "attachments": {},
   "cell_type": "markdown",
   "metadata": {},
   "source": [
    "### Task\n",
    "\n",
    "An insurance company conducted a study with 200 individuals, and found that:\n",
    "\n",
    "+ 87 individuals opted for at least a life insurance policy.\n",
    "+ 40 individuals opted for at least life and car insurance policies.\n",
    "+ 63 individuals opted for at least a house insurance policy.\n",
    "+ 160 individuals opted for at least one type of insurance policy.\n",
    "\n",
    "We can't predict people's choices with certainty, so an individual choosing to buy an insurance policy is a random experiment. 200 individuals were part of the study, so you can consider the random experiment was performed 200 times. Find:\n",
    "\n",
    "+ P(L): The probability that a new customer opts for at least a life insurance. Assign your answer to a variable named p_l.\n",
    "+ P(L and C): The probability that an individual opts for at least a life and a car insurance policy. Assign your answer to a variable named p_l_and_c.\n",
    "+ P(H): The probability that an individual opts for at least a house insurance policy. Assign your answer to a variable named p_h.\n",
    "+ P(NO): The probability that an individual opts for no insurance at all. Assign your answer to a variable named p_no.\n"
   ]
  },
  {
   "cell_type": "code",
   "execution_count": 25,
   "metadata": {},
   "outputs": [],
   "source": [
    "p_l = 87/200"
   ]
  },
  {
   "cell_type": "code",
   "execution_count": 26,
   "metadata": {},
   "outputs": [],
   "source": [
    "p_l_and_c = 40/200"
   ]
  },
  {
   "cell_type": "code",
   "execution_count": 27,
   "metadata": {},
   "outputs": [],
   "source": [
    "p_h = 63/200"
   ]
  },
  {
   "cell_type": "code",
   "execution_count": 29,
   "metadata": {},
   "outputs": [],
   "source": [
    "p_no = (200-160)/200"
   ]
  },
  {
   "attachments": {},
   "cell_type": "markdown",
   "metadata": {},
   "source": [
    "### Theoretical Probability\n",
    "\n",
    "When we calculate the probability of an event under the assumption that the outcomes have equal chances of occurring, we say that we're calculating the __theoretical probability__ of an event."
   ]
  },
  {
   "attachments": {},
   "cell_type": "markdown",
   "metadata": {},
   "source": [
    "Theoretical probabilities are much easier to calculate, but in practice it doesn't always make sense to assume the outcomes of a random experiment have equal chances of occurring. If you were playing the lottery, it wouldn't be reasonable to assume that the two possible outcomes (you win or you don't) have equal chances.\n",
    "\n",
    "If you were a scientist trying to calculate the probability of a human becoming infected with the HIV virus, it wouldn't be reasonable to assume the two possible outcomes (becoming infected with HIV or not) have equal chances of occurring. Both theoretical and empirical probabilities are helpful and important in practice."
   ]
  },
  {
   "attachments": {},
   "cell_type": "markdown",
   "metadata": {},
   "source": [
    "### Task\n",
    "\n",
    "+ Find the theoretical probability of getting a 5 when rolling a six-sided die. Assign your answer to p_5.\n",
    "+ Tossing a coin twice has four possible outcomes (assume all the outcomes are equally likely):\n",
    "    + Heads on the first toss and heads on the second toss (HH).\n",
    "    + Heads on the first toss and tails on the second (HT).\n",
    "    + Tails on the first toss and heads on the second (TH).\n",
    "    + Tails on the first toss and tails on the second (TT).\n",
    "+ Find:\n",
    "    + P(HT): Assign your result to p_ht.\n",
    "    + P(TT): Assign your result to p_tt.\n"
   ]
  },
  {
   "cell_type": "code",
   "execution_count": 30,
   "metadata": {},
   "outputs": [],
   "source": [
    "p_5 = 1/6\n",
    "p_tt = 1/4\n",
    "p_ht = p_tt"
   ]
  },
  {
   "attachments": {},
   "cell_type": "markdown",
   "metadata": {},
   "source": [
    "### Event Vs. Outcome\n",
    "\n",
    "n outcome is any result that a random experiment may terminate in. For instance, all the possible outcomes of rolling a six-sided die are 1, 2, 3, 4, 5, and 6. An event, however, has a richer meaning and can include more than one outcome (or even zero outcomes):\n",
    "\n",
    "+ The event that we'll get an odd number when we roll a six-sided die — this event includes the outcomes 1, 3, and 5.\n",
    "+ The event that we'll get a number less than 5 but greater than 1 when we roll a six-sided die — this event includes the outcomes 2, 3, and 4.\n",
    "+ The event that we'll get a number greater than 20 when we roll a six-sided die — this event doesn't include any of the possible outcomes corresponding to rolling a six-sided die.\n"
   ]
  },
  {
   "attachments": {},
   "cell_type": "markdown",
   "metadata": {},
   "source": [
    "Although an event can include a single outcome (like the event of getting a 2 when we roll a die), the two concepts still have a different meaning. We always assign probabilities to events, not outcomes, even if the event includes only one outcome."
   ]
  },
  {
   "attachments": {},
   "cell_type": "markdown",
   "metadata": {},
   "source": [
    "## Task \n",
    "\n",
    "Assume all the outcomes of rolling a six-sided die have an equal chance of occuring. Calculate as proportion the probability of the following events:\n",
    "\n",
    "+ We get an even number — assign your answer to p_even.\n",
    "+ We get an odd number different than 3 — assign your answer to p_odd_no_3.\n",
    "+ We get an odd number greater than 5 — assign your answer to p_odd_greater_5.\n"
   ]
  },
  {
   "cell_type": "code",
   "execution_count": 31,
   "metadata": {},
   "outputs": [],
   "source": [
    "p_even = 3/6"
   ]
  },
  {
   "cell_type": "code",
   "execution_count": 32,
   "metadata": {},
   "outputs": [],
   "source": [
    "p_odd_no_3 =2"
   ]
  },
  {
   "cell_type": "code",
   "execution_count": 33,
   "metadata": {},
   "outputs": [],
   "source": [
    "p_odd_greater_5 = 0"
   ]
  }
 ],
 "metadata": {
  "kernelspec": {
   "display_name": "base",
   "language": "python",
   "name": "python3"
  },
  "language_info": {
   "codemirror_mode": {
    "name": "ipython",
    "version": 3
   },
   "file_extension": ".py",
   "mimetype": "text/x-python",
   "name": "python",
   "nbconvert_exporter": "python",
   "pygments_lexer": "ipython3",
   "version": "3.9.12 (main, Apr  5 2022, 06:56:58) \n[GCC 7.5.0]"
  },
  "orig_nbformat": 4,
  "vscode": {
   "interpreter": {
    "hash": "d0028ce20b428eb90286e675cfc9d586ae702ba0463c3d3b035a87d9639116bc"
   }
  }
 },
 "nbformat": 4,
 "nbformat_minor": 2
}
