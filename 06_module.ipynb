{
 "cells": [
  {
   "attachments": {},
   "cell_type": "markdown",
   "metadata": {},
   "source": [
    "# Bayes Theorem\n",
    "\n",
    "## Independence and Exclusivity\n",
    "\n",
    "There is an important distinction between independence and exclusivity. We learned in the previous lesson that two events A and B are independent if the occurrence of one doesn't change the probability of the other. In mathematical terms, we've seen A and B are independent if any of the conditions below are true:\n",
    "\n",
    "\\begin{equation}\n",
    "P(A) = P(A|B) \\\\ \n",
    "\\end{equation}\n",
    "\n",
    "\\begin{equation}\n",
    "P(B) = P(B|A) \\\\ \n",
    "\\end{equation}\n",
    "\n",
    "\\begin{equation}\n",
    "P(A \\cap B) = P(A) \\cdot P(B) \n",
    "\\end{equation}\n",
    "\n",
    "We learned that two events — A and B — are mutually exclusive if they cannot occur both at the same time. If one event happens, the other cannot possibly happen anymore, and vice-versa. Examples of mutually exclusive events include:\n",
    "\n",
    "+ Getting a 5 (event A) and getting a 3 (event B) when we roll a regular six-sided die — it's impossible to get both a 5 and a 3.\n",
    "+ A coin lands on heads (event A) and tails (event B) — it's impossible to flip a coin and see it landing on both heads and tails.\n",
    "\n",
    "\n"
   ]
  },
  {
   "attachments": {},
   "cell_type": "markdown",
   "metadata": {},
   "source": [
    "If two events A and B are mutually exclusive, then it's impossible that they both occur, which means (A ∩ B) is an impossible event (and the probability of impossible events is always 0):\n",
    "\n",
    "\\begin{equation}\n",
    "P(A \\cap B) = 0 \n",
    "\\end{equation}"
   ]
  },
  {
   "attachments": {},
   "cell_type": "markdown",
   "metadata": {},
   "source": [
    "Both independence and exclusivity describe the relationship between two or more events, and we see that they have different mathematical meanings:\n",
    "\n",
    "\\begin{aligned}\n",
    "\\text{Independence} &\\implies P(A \\cap B) = P(A) \\cdot P(B) \\\\\n",
    "\\text{Dependence} &\\implies P(A \\cap B) = P(A) \\cdot P(B|A) \\\\\n",
    "\\text{Exclusivity} &\\implies P(A \\cap B) = 0 \n",
    "\\end{aligned}"
   ]
  },
  {
   "attachments": {},
   "cell_type": "markdown",
   "metadata": {},
   "source": [
    "Let's take a quick look at a few examples. Say we roll a fair six-sided die twice and consider these four events:\n",
    "\n",
    "+ Event A: We get a 4 on the first roll.\n",
    "+ Event B: We get a 2 on the second roll.\n",
    "+ Event C: We get an even number on the first roll.\n",
    "+ Event D: We get a 5 on the first roll"
   ]
  },
  {
   "attachments": {},
   "cell_type": "markdown",
   "metadata": {},
   "source": [
    "If event A happens, then the probability of event B stays the same, since the result of the first roll doesn't influence the result of the second one in any way — this means A and B are __independent__. Also, we can get a 4 on the first roll (event A) and a 2 on the second roll (event B), which means A and B are __not mutually exclusive__.\n",
    "\n",
    "Now let's look at the relationship between events A and C. If C happens, then the probability of A changes, and vice-versa. This means A and C are __dependent__. Also, if the outcome was 4, then we'd get a 4 (event A) and an even number (event C) at the same time, which means A and C are __not mutually exclusive__."
   ]
  },
  {
   "attachments": {},
   "cell_type": "markdown",
   "metadata": {},
   "source": [
    "However, if we look at events A and D, we see they cannot possibly happen together — we cannot get both a 4 and a 5 on the first roll. This means event A and D are __mutually exclusive__. Since A and D cannot possibly happen together, it becomes meaningless to talk about independence since the concept of independence makes sense only as long as both events can happen."
   ]
  },
  {
   "attachments": {},
   "cell_type": "markdown",
   "metadata": {},
   "source": [
    "### Task\n",
    "\n",
    "For the exercises below, consider the following probabilities:\n",
    "\n",
    "+ The probability of being infected with HIV is 0.00014. That is P(HIV)=0.00014.\n",
    "+ The probability of being infected with HIV given a positive result from an HIV test is 0.03. That is P(HIV|T+)=0.03.\n",
    "\n",
    "Assess with True or False the following statements:\n",
    "\n",
    "+ Events HIV and T+ are independent. If you think this statement is true, then assign the boolean True to statement_1, otherwise assign False.\n",
    "+  Events HIV and HIV<sup>c</sup> are mutually exclusive. If you think this statement is true, then assign the boolean True to statement_2, otherwise assign False.\n",
    "+ Events HIV<sup>c</sup> and T+ are dependent. If you think this statement is true, then assign the boolean True to statement_3, otherwise assign False.\n"
   ]
  },
  {
   "cell_type": "code",
   "execution_count": null,
   "metadata": {},
   "outputs": [],
   "source": [
    "statement_1 = False\n",
    "statement_2 = True\n",
    "statement_3 = True"
   ]
  },
  {
   "cell_type": "code",
   "execution_count": null,
   "metadata": {},
   "outputs": [],
   "source": []
  }
 ],
 "metadata": {
  "language_info": {
   "name": "python"
  },
  "orig_nbformat": 4
 },
 "nbformat": 4,
 "nbformat_minor": 2
}
