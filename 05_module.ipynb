{
 "cells": [
  {
   "attachments": {},
   "cell_type": "markdown",
   "metadata": {},
   "source": [
    "# Conditional Probability: Fundamentals"
   ]
  },
  {
   "attachments": {},
   "cell_type": "markdown",
   "metadata": {},
   "source": [
    "Conditional probability refers to the chances that some outcome occurs given that another event has also occurred. It is often stated as the probability of B given A and is written as P(B|A), where the probability of B depends on that of A happening."
   ]
  },
  {
   "attachments": {},
   "cell_type": "markdown",
   "metadata": {},
   "source": [
    "## Background Information"
   ]
  },
  {
   "attachments": {},
   "cell_type": "markdown",
   "metadata": {},
   "source": [
    "Without being provided with extra information, the probability of getting a 5 when rolling a fair six-sided die is  P(5) = $\\frac {1}{6}$"
   ]
  },
  {
   "attachments": {},
   "cell_type": "markdown",
   "metadata": {},
   "source": [
    "Now suppose the die is rolled and we're told some new information: the die showed an odd number (1, 3, or 5) after landing. Is the probability of getting a 5 still P(5)=$\\frac {1}{6}$? Or should we instead update the probability based on the information we have?\n",
    "\n",
    "When we don't know whether the number is odd, the possible outcomes of the experiment are 1, 2, 3, 4, 5, or 6. But after we find out the number is odd, the possible outcomes are 1, 3, or 5. In other words, the new information we got reduced the sample space from {1, 2, 3, 4, 5, 6} to {1, 3, 5}:"
   ]
  },
  {
   "attachments": {},
   "cell_type": "markdown",
   "metadata": {},
   "source": [
    "Ω={1,2,3,4,5,6}    becomes−−−−−→    Ω={1,3,5}"
   ]
  },
  {
   "attachments": {},
   "cell_type": "markdown",
   "metadata": {},
   "source": [
    "With Ω={1,3,5}, we now have three total possible outcomes (1, 3, and 5) and only one successful outcome (5), so P(5)≠ $\\frac {1}{6}$, but rather:\n",
    "P(5)= $\\frac {1}{3}$"
   ]
  },
  {
   "attachments": {},
   "cell_type": "markdown",
   "metadata": {},
   "source": [
    "![conditional](img/cpm1_viz1.png)"
   ]
  },
  {
   "attachments": {},
   "cell_type": "markdown",
   "metadata": {},
   "source": [
    "#### Task\n",
    "\n",
    "A fair six-sided die is rolled. All we know is that the number we got is less than 5. Calculate:\n",
    "\n",
    "1. The probability of getting a 3. Assign your answer to p_3.\n",
    "2. The probability of getting a 6. Assign your answer to p_6.\n",
    "3. The probability of getting an odd number. Assign your answer to p_odd.\n",
    "4. The probability of getting an even number. Assign your answer to p_even.\n"
   ]
  },
  {
   "cell_type": "code",
   "execution_count": 1,
   "metadata": {},
   "outputs": [],
   "source": [
    "no_outcomes = 5"
   ]
  },
  {
   "cell_type": "code",
   "execution_count": 2,
   "metadata": {},
   "outputs": [],
   "source": [
    "p_3 = 1/no_outcomes"
   ]
  },
  {
   "cell_type": "code",
   "execution_count": 6,
   "metadata": {},
   "outputs": [],
   "source": [
    "p_6 = 0/no_outcomes"
   ]
  },
  {
   "cell_type": "code",
   "execution_count": 7,
   "metadata": {},
   "outputs": [],
   "source": [
    "p_odd =  2/no_outcomes"
   ]
  },
  {
   "cell_type": "code",
   "execution_count": 5,
   "metadata": {},
   "outputs": [],
   "source": [
    "p_even = 2/no_outcomes"
   ]
  },
  {
   "attachments": {},
   "cell_type": "markdown",
   "metadata": {},
   "source": [
    "## Conditional Probability\n",
    "\n",
    "On the previous screen, we considered a die roll and updated P(5) from $\\frac {1}{6}$ to $\\frac {1}{3}$ based on the information that the number we got is odd:\n",
    "\n",
    "P(5)=$\\frac {1}{6}$   odd number−−−−−−−→    P(5)=$\\frac {1}{3}$\n",
    "\n",
    "Taken individually, however, P(5)=$\\frac {1}{6}$ and P(5)=$\\frac {1}{6}$ are correct answers to different questions:"
   ]
  },
  {
   "attachments": {},
   "cell_type": "markdown",
   "metadata": {},
   "source": [
    "+ What is the probability of getting a 5?\n",
    "+ What is the probability of getting a 5 given the die showed an odd number?\n",
    "\n",
    "P(5)=$\\frac {1}{6}$ is a correct answer to the first question, where we only want to find the probability of getting a 5.\n",
    "\n",
    "On the other side, P(5)=$\\frac {1}{3}$ is a correct answer to the second question, where we introduce a condition: the die showed an odd number. To account for this condition and for the fact that two different questions are being addressed, we need to introduce some extra notation:"
   ]
  }
 ],
 "metadata": {
  "kernelspec": {
   "display_name": "Python 3",
   "language": "python",
   "name": "python3"
  },
  "language_info": {
   "codemirror_mode": {
    "name": "ipython",
    "version": 3
   },
   "file_extension": ".py",
   "mimetype": "text/x-python",
   "name": "python",
   "nbconvert_exporter": "python",
   "pygments_lexer": "ipython3",
   "version": "3.10.9"
  },
  "orig_nbformat": 4,
  "vscode": {
   "interpreter": {
    "hash": "0e1f169f5711a90ff09b1ce155e8835a9bac5ac4c242468736f19be364069406"
   }
  }
 },
 "nbformat": 4,
 "nbformat_minor": 2
}
