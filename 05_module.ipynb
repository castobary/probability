{
 "cells": [
  {
   "attachments": {},
   "cell_type": "markdown",
   "metadata": {},
   "source": [
    "# Conditional Probability: Fundamentals"
   ]
  },
  {
   "attachments": {},
   "cell_type": "markdown",
   "metadata": {},
   "source": [
    "Conditional probability refers to the chances that some outcome occurs given that another event has also occurred. It is often stated as the probability of B given A and is written as P(B|A), where the probability of B depends on that of A happening."
   ]
  },
  {
   "attachments": {},
   "cell_type": "markdown",
   "metadata": {},
   "source": [
    "## Background Information"
   ]
  },
  {
   "attachments": {},
   "cell_type": "markdown",
   "metadata": {},
   "source": [
    "Without being provided with extra information, the probability of getting a 5 when rolling a fair six-sided die is  P(5) = $\\frac {1}{6}$"
   ]
  },
  {
   "attachments": {},
   "cell_type": "markdown",
   "metadata": {},
   "source": [
    "Now suppose the die is rolled and we're told some new information: the die showed an odd number (1, 3, or 5) after landing. Is the probability of getting a 5 still P(5)=$\\frac {1}{6}$? Or should we instead update the probability based on the information we have?\n",
    "\n",
    "When we don't know whether the number is odd, the possible outcomes of the experiment are 1, 2, 3, 4, 5, or 6. But after we find out the number is odd, the possible outcomes are 1, 3, or 5. In other words, the new information we got reduced the sample space from {1, 2, 3, 4, 5, 6} to {1, 3, 5}:"
   ]
  },
  {
   "attachments": {},
   "cell_type": "markdown",
   "metadata": {},
   "source": [
    "Ω={1,2,3,4,5,6}    becomes−−−−−→    Ω={1,3,5}"
   ]
  },
  {
   "attachments": {},
   "cell_type": "markdown",
   "metadata": {},
   "source": [
    "With Ω={1,3,5}, we now have three total possible outcomes (1, 3, and 5) and only one successful outcome (5), so P(5)≠ $\\frac {1}{6}$, but rather:\n",
    "P(5)= $\\frac {1}{3}$"
   ]
  },
  {
   "attachments": {},
   "cell_type": "markdown",
   "metadata": {},
   "source": [
    "![conditional](img/cpm1_viz1.png)"
   ]
  },
  {
   "attachments": {},
   "cell_type": "markdown",
   "metadata": {},
   "source": [
    "#### Task\n",
    "\n",
    "A fair six-sided die is rolled. All we know is that the number we got is less than 5. Calculate:\n",
    "\n",
    "1. The probability of getting a 3. Assign your answer to p_3.\n",
    "2. The probability of getting a 6. Assign your answer to p_6.\n",
    "3. The probability of getting an odd number. Assign your answer to p_odd.\n",
    "4. The probability of getting an even number. Assign your answer to p_even.\n"
   ]
  },
  {
   "cell_type": "code",
   "execution_count": 1,
   "metadata": {},
   "outputs": [],
   "source": [
    "no_outcomes = 5"
   ]
  },
  {
   "cell_type": "code",
   "execution_count": 2,
   "metadata": {},
   "outputs": [],
   "source": [
    "p_3 = 1/no_outcomes"
   ]
  },
  {
   "cell_type": "code",
   "execution_count": 6,
   "metadata": {},
   "outputs": [],
   "source": [
    "p_6 = 0/no_outcomes"
   ]
  },
  {
   "cell_type": "code",
   "execution_count": 7,
   "metadata": {},
   "outputs": [],
   "source": [
    "p_odd =  2/no_outcomes"
   ]
  },
  {
   "cell_type": "code",
   "execution_count": 5,
   "metadata": {},
   "outputs": [],
   "source": [
    "p_even = 2/no_outcomes"
   ]
  },
  {
   "attachments": {},
   "cell_type": "markdown",
   "metadata": {},
   "source": [
    "## Conditional Probability\n",
    "\n",
    "On the previous screen, we considered a die roll and updated P(5) from $\\frac {1}{6}$ to $\\frac {1}{3}$ based on the information that the number we got is odd:\n",
    "\n",
    "P(5)=$\\frac {1}{6}$   odd number−−−−−−−→    P(5)=$\\frac {1}{3}$\n",
    "\n",
    "Taken individually, however, P(5)=$\\frac {1}{6}$ and P(5)=$\\frac {1}{6}$ are correct answers to different questions:"
   ]
  },
  {
   "attachments": {},
   "cell_type": "markdown",
   "metadata": {},
   "source": [
    "+ What is the probability of getting a 5?\n",
    "+ What is the probability of getting a 5 given the die showed an odd number?\n",
    "\n",
    "P(5)=$\\frac {1}{6}$ is a correct answer to the first question, where we only want to find the probability of getting a 5.\n",
    "\n",
    "On the other side, P(5)=$\\frac {1}{3}$ is a correct answer to the second question, where we introduce a condition: the die showed an odd number. To account for this condition and for the fact that two different questions are being addressed, we need to introduce some extra notation:"
   ]
  },
  {
   "attachments": {},
   "cell_type": "markdown",
   "metadata": {},
   "source": [
    "For notation simplicity, P(5 given the die showed an odd number) becomes `P(5 | odd)`. The vertical bar character `( | )` should be read as \"given.\" We can read `P(5 | odd)` as \"the probability of getting a 5 given that the die showed an odd number.\""
   ]
  },
  {
   "attachments": {},
   "cell_type": "markdown",
   "metadata": {},
   "source": [
    "Another way to read `P(5 | odd)` is \"the probability of getting a 5 with the condition that the die showed an odd number.\" For this reason, we can also call `P(5 | odd)` the conditional probability of getting a 5 given the die showed an odd number."
   ]
  },
  {
   "attachments": {},
   "cell_type": "markdown",
   "metadata": {},
   "source": [
    "#### Task\n",
    "\n",
    "A student is randomly selected from a class. All we know is that he was born during winter. Assume the winter months are December, January, and February and ignore the fact that these three months have different number of days. Find:\n",
    "\n",
    "1. The probability that he was born in December. Assign your answer to p_december.\n",
    "2. The probability that he was born during summer. Assign your answer to p_summer.\n",
    "3. The probability that he was born in a month which ends in letter \"r\" — \"September\", for instance, ends in \"r\", while \"April\" doesn't. Assign your answer to p_ends_r"
   ]
  },
  {
   "cell_type": "code",
   "execution_count": 8,
   "metadata": {},
   "outputs": [],
   "source": [
    "p_december = 1/3\n",
    "p_summer = 0/3\n",
    "p_ends_r = 1/3"
   ]
  },
  {
   "attachments": {},
   "cell_type": "markdown",
   "metadata": {},
   "source": [
    "## Conditional Probability Formula\n",
    "\n",
    "Say we roll a fair six-sided die and want to find the probability of getting an odd number, given the die showed a number greater than 1 after landing. Using probability notation, we want to find `P(A|B)` where:\n",
    "\n",
    "+ A is the event that the number is odd: `A = {1, 3, 5}`\n",
    "+ B is the event that the number is greater than 1: `B = {2, 3, 4, 5, 6}`\n",
    "\n",
    "To find `P(A|B)`, we need to use the following formula:\n",
    "\n",
    "`P(A|B)`=$\\frac{numberof successful outcomes}{total number of possible outcomes}$"
   ]
  },
  {
   "attachments": {},
   "cell_type": "markdown",
   "metadata": {},
   "source": [
    "We know for sure event B happened (the number is greater than 1), so the sample space is reduced from {1, 2, 3, 4, 5, 6} to {2, 3, 4, 5, 6}:\n",
    "\n",
    "Ω={1,2,3,4,5,6}becomes−−−−−→Ω={2,3,4,5,6}\n",
    "\n",
    "This means we're left with only five total possible outcomes if B happens:\n",
    "\n",
    "total number of possible outcomes=5\n",
    "\n",
    "The total number of possible outcomes above is given by the number of elements in the reduced sample space Ω={2,3,4,5,6}— there are five elements.\n",
    "\n",
    "The number of elements in a set is called the cardinal of the set. Ω\n",
    "is a set, and the cardinal of Ω={2,3,4,5,6} is:"
   ]
  },
  {
   "attachments": {},
   "cell_type": "markdown",
   "metadata": {},
   "source": [
    "cardinal(Ω)=5\n",
    "\n",
    "In set notation, cardinal(Ω) is abbreviated as card(Ω), so we have:\n",
    "\n",
    "total number of possible outcomes=card(Ω)=5\n",
    "\n",
    "Note that Ω={2,3,4,5,6}\n",
    "and B={2,3,4,5,6} are identical, which means card(Ω)=card(B)=5. Therefore, we have:\n",
    "\n",
    "total number of possible outcomes=card(B)=5"
   ]
  },
  {
   "attachments": {},
   "cell_type": "markdown",
   "metadata": {},
   "source": [
    "So far, we've developed half of our formula:\n",
    "\n",
    "`P(A|B)`=$\\frac{number of successful outcomes}{card(B)}$"
   ]
  },
  {
   "attachments": {},
   "cell_type": "markdown",
   "metadata": {},
   "source": [
    "Recall we're interested in finding the probability of getting an odd number, given the number the die showed is greater than 1. There are three odd numbers on a regular six-sided die (1, 3, and 5), but we know for sure we got a number greater than 1, so the only possible odd numbers we can get are 3 and 5. This means that the number of possible successful outcomes is two:\n",
    "\n",
    "number of successful outcomes=2\n",
    "\n",
    "The only possible odd numbers we can get are only 3 and 5, and the number of possible successful outcomes is also given by the cardinal of the set {3, 5}:\n",
    "\n",
    "number of successful outcomes=2=card({3,5})"
   ]
  },
  {
   "attachments": {},
   "cell_type": "markdown",
   "metadata": {},
   "source": [
    "Note that the set {3, 5} is the result of the intersection between set A and set B:\n",
    "\n",
    "A∩B={3,5}\n",
    "\n",
    "![cond](img/cpm1_viz2.png)"
   ]
  },
  {
   "attachments": {},
   "cell_type": "markdown",
   "metadata": {},
   "source": [
    "So the number of successful outcomes is given by the cardinal of the intersection between set A and B:\n",
    "\n",
    "total number of successful outcomes=card(A∩B)=card({3,5})=2\n",
    "\n",
    "We can plug that into our formula and calculate P(A|B):\n",
    "\n",
    "P(A | B)=$\\frac{card(A∩B)}{card(B)}$=25\n",
    "\n",
    "We now have a formula for conditional probability, defined purely in terms of A and B, where A and B can be any events (not just events related to a die roll):"
   ]
  },
  {
   "attachments": {},
   "cell_type": "markdown",
   "metadata": {},
   "source": [
    "We now have a formula for conditional probability, defined purely in terms of A and B, where A and B can be any events (not just events related to a die roll):\n",
    "\n",
    "P(A | B)=$\\frac{card(A∩B)}{card(B)}$"
   ]
  },
  {
   "attachments": {},
   "cell_type": "markdown",
   "metadata": {},
   "source": [
    "#### Task\n",
    "\n",
    "Two fair six-sided dice are simultaneously rolled, and the two numbers they show are added together. The diagram below shows all the possible results that we can get from adding the two numbers together.\n",
    "\n",
    "![Two die](img/pr1m2_sums.png)\n",
    "\n",
    "1. Find P(A|B), where A is the event where the sum is an even number, and B is the event that the sum is less than eight.\n",
    "\n",
    "2. Find card(B). Assign your answer to card_b.\n",
    "        Note that you'll have to treat identical sums differently if they come from different die numbers. On the diagram above, we see that we have three sums of 4, but they all come from different die outcomes: (3, 1), (2,2), and (1, 3), where the first number describes the outcome of the first die throw, and the second number the outcome of the second die throw.\n",
    "\n",
    "3. Find card(A ∩ B). Assign your answer to card_a_and_b.\n",
    "4. Calculate P(A|B). Assign your answer to p_a_given_b."
   ]
  },
  {
   "cell_type": "code",
   "execution_count": 9,
   "metadata": {},
   "outputs": [],
   "source": [
    "card_b = 21\n",
    "card_a_and_b = 9\n",
    "p_a_given_b = card_a_and_b / card_b"
   ]
  },
  {
   "attachments": {},
   "cell_type": "markdown",
   "metadata": {},
   "source": [
    "## Real life example\n",
    "\n",
    " A team of biologists wants to measure the efficiency of a new HIV test they developed (HIV is a virus that causes AIDS, a disease which affects the immune system). They used the new method to test 53 people, and the results are summarized in the table below:\n",
    "\n",
    " ![Hiv](img/cpm1_table1.png)"
   ]
  },
  {
   "attachments": {},
   "cell_type": "markdown",
   "metadata": {},
   "source": [
    "By reading the table above, we can see that:\n",
    "\n",
    "+ 23 people are infected with HIV.\n",
    "+ 30 people are not infected with HIV (HIVC means not infected with HIV — recall from the previous course that the superscript \"C\" indicates a set complement).\n",
    "+ 45 people tested positive for HIV .\n",
    "+ 8 people tested negative for HIV.\n",
    "+ Out of the 23 infected people, 21 tested positive (correct diagnosis).\n",
    "+ Out of the 30 not-infected people, 24 tested positive (wrong diagnosis).\n",
    "\n",
    "The team now intends to use these results to calculate probabilities for new patients and figure out whether the test is reliable enough to use in hospitals. They want to know:\n",
    "\n",
    "+ What is the probability of testing positive, given that a patient is infected with HIV?\n",
    "+ What is the probability of testing negative, given that a patient is not infected with HIV?\n",
    "\n"
   ]
  },
  {
   "attachments": {},
   "cell_type": "markdown",
   "metadata": {},
   "source": [
    "`P(T+ | HIV)` is the probability of testing positive, given that the patient is infected with HIV, and, according to the formula, we have:\n",
    "\n",
    "`P(T+|HIV)`=$\\frac {card(T^+∩HIV)}{card(HIV)}$"
   ]
  },
  {
   "attachments": {},
   "cell_type": "markdown",
   "metadata": {},
   "source": [
    "There are 23 people infected with HIV, which means card(HIV)=23. Out of 23 people who are infected with HIV, 21 also tested positive, which means card(T<sup>+</sup>∩HIV)=21.\n",
    "\n",
    "![ppv](img/cpm1_viz3.png)"
   ]
  },
  {
   "attachments": {},
   "cell_type": "markdown",
   "metadata": {},
   "source": [
    "This means that P(T<sup>+</sup> | HIV) is:\n",
    "\n",
    "P(T<sup>+</sup>|HIV)=$\\frac {21}{23}$=0.9130\n",
    "\n",
    "The probability of testing positive, given that the patient is infected with HIV, is therefore 91.30% — this may suggest that the new test is fairly good at detecting the HIV virus when the virus is actually present. However, at a probability of 91.31%, we can expect that for every 10,000 patients infected with HIV, about 9,131 patients will get a correct diagnosis, while the other 869 will not. The team should probably conclude that the test needs more refinement with respect to detecting the virus."
   ]
  },
  {
   "attachments": {},
   "cell_type": "markdown",
   "metadata": {},
   "source": [
    "Given the HIV results above\n",
    "\n",
    "+ Calculate P(T<sup>-</sup> | HIV<sup>c</sup>). Assign your answer to p_negative_given_non_hiv.\n",
    "+ Print p_negative_given_non_hiv.\n",
    "+ Interpret the result — does the value of P(T<sup>-</sup> | HIV<sup>c</sup>) suggest that the test needs more work? Or does it look like the test is reliable enough to use in hospitals? Write your thoughts using a multi-line string. This part of the exercise is not answer-checked, but we suggest a solution nonetheless."
   ]
  },
  {
   "cell_type": "code",
   "execution_count": 10,
   "metadata": {},
   "outputs": [
    {
     "name": "stdout",
     "output_type": "stream",
     "text": [
      "0.2\n"
     ]
    },
    {
     "data": {
      "text/plain": [
       "'\\nThe probability of testing negative given that a patient is not\\ninfected with HIV is 20%. This means that for every 10,000 healthy\\npatients, only about 2000 will get a correct diagnosis, while the\\nother 8000 will not. It looks like the test is almost completely\\ninefficient, and it could be dangerous to have it used in hospitals.\\n'"
      ]
     },
     "execution_count": 10,
     "metadata": {},
     "output_type": "execute_result"
    }
   ],
   "source": [
    "p_negative_given_non_hiv = 6/30\n",
    "print(p_negative_given_non_hiv)\n",
    "\n",
    "'''\n",
    "The probability of testing negative given that a patient is not\n",
    "infected with HIV is 20%. This means that for every 10,000 healthy\n",
    "patients, only about 2000 will get a correct diagnosis, while the\n",
    "other 8000 will not. It looks like the test is almost completely\n",
    "inefficient, and it could be dangerous to have it used in hospitals.\n",
    "'''"
   ]
  },
  {
   "attachments": {},
   "cell_type": "markdown",
   "metadata": {},
   "source": [
    "## Formula for Conditional Probability\n",
    "\n",
    "For any two events A and B, P(A|B) is:\n",
    "\n",
    "`P(A|B)`=$\\frac {P(A∩B)}{P(B)}$\n",
    "\n",
    "This formula is useful when we only know probabilities."
   ]
  },
  {
   "attachments": {},
   "cell_type": "markdown",
   "metadata": {},
   "source": [
    "## Task\n",
    "\n",
    "A company offering a browser-based task manager tool intends to do some targeted advertising based on people's browsers. The data they collected about their users is described in the table below:\n",
    "\n",
    "![browsers](img/cpm1_table2.png)"
   ]
  },
  {
   "attachments": {},
   "cell_type": "markdown",
   "metadata": {},
   "source": [
    "Find:\n",
    "\n",
    "+ `P(Premium | Chrome)` — the probability that a randomly chosen user has a premium subscription, provided their browser is Chrome. Assign your answer to p_premium_given_chrome.\n",
    "+ `P(Basic | Safari)` — the probability that a randomly chosen user has a basic subscription, provided their browser is Safari. Assign your answer to p_basic_given_safari.\n",
    "+ `P(Free | Firefox)`— the probability that a randomly chosen user has a free subscription, provided their browser is Firefox. Assign your answer to p_free_given_firefox.\n",
    "+ Between a Chrome user and a Safari user, who is more likely to have a premium subscription? If you think a Chrome user is the answer, then assign the string 'Chrome' to a variable named more_likely_premium, otherwise assign 'Safari'. To solve this exercise, you'll also need to calculate `P(Premium | Safari)`.\n"
   ]
  },
  {
   "cell_type": "code",
   "execution_count": 11,
   "metadata": {},
   "outputs": [],
   "source": [
    "p_premium_given_chrome = 158/2762\n",
    "p_basic_given_safari = 274/1288\n",
    "p_free_given_firefox = 2103/2285\n",
    "p_premium_given_safari = 120/1288\n",
    "more_likely_premium = 'Safari'"
   ]
  },
  {
   "attachments": {},
   "cell_type": "markdown",
   "metadata": {},
   "source": [
    "## An Important Difference"
   ]
  },
  {
   "attachments": {},
   "cell_type": "markdown",
   "metadata": {},
   "source": [
    "We have learned two important formulas:\n",
    "\n",
    "P(A|B)=$\\frac {card(A∩B)}{card(B)}$             (1)\n",
    "\n",
    "P(A|B)=$\\frac {P(A∩B)}{P(B)}$          (2)"
   ]
  },
  {
   "attachments": {},
   "cell_type": "markdown",
   "metadata": {},
   "source": [
    "One intuitive way to understand P(A|B) is \"if B occurs, then what's the probability that A occurs?\" This suggests that both events A and B occur. However, since P(A ∩ B) is the probability that both A and B occur, then what's the difference between P(A|B) and P(A ∩ B), if any?\n",
    "\n",
    "Let's take rolling a fair six-sided die, and try to find P(A|B) and P(A ∩ B), where:\n",
    "\n",
    "+ A is the event that the number is odd: A = {1, 3, 5}\n",
    "+ B is the event that the number is greater than 1: B = {2, 3, 4, 5, 6}\n",
    "\n",
    "Using formula (1) above, we see that P(A|B), the probability of getting an odd number given that we got a number greater than 1, is:"
   ]
  },
  {
   "attachments": {},
   "cell_type": "markdown",
   "metadata": {},
   "source": [
    "P(A|B)=$\\frac {card(A∩B)}{card(B)}$=$\\frac {card({3,5})}{card({2,3,4,5,6})}$=$\\frac {2}{5} $"
   ]
  },
  {
   "attachments": {},
   "cell_type": "markdown",
   "metadata": {},
   "source": [
    "P(A|B)=$\\frac {2}{5} $ and P(A∩B)=$\\frac {2}{6} $  , so P(A|B) and P(A ∩ B) must be different things. And they are different because P(A ∩ B) means finding the probability that both A and B occur, while P(A|B) means finding only the probability that A occurs (given that B occurs).\n",
    "\n",
    "With P(A ∩ B), we're trying to to find the probability of two events (A and B), while with P(A|B) we're only trying to find the probability of a single event, which is A.\n",
    "\n",
    "Looking at formula (2) above, we can also see a mathematical difference between P(A|B) and P(A ∩ B) — we see that P(A|B)≠P(A∩B)\n",
    ", but rather:\n",
    "\n",
    "P(A|B)=$\\frac {card(A∩B)}{card(B)}$\n",
    "\n",
    "P(A∩B)=P(A|B)⋅P(B)"
   ]
  },
  {
   "attachments": {},
   "cell_type": "markdown",
   "metadata": {},
   "source": [
    "\n",
    "+ P(A) means finding the probability of A\n",
    "+ P(A|B) means finding the conditional probability of A (given that B occurs)\n",
    "+ P(A ∩ B) means finding the probability that both A and B occur\n",
    "+ P(A ∪ B) means finding the probability that A occurs or B occurs (this doesn't exclude the situation where both A and B occur)\n"
   ]
  },
  {
   "attachments": {},
   "cell_type": "markdown",
   "metadata": {},
   "source": [
    "## Task\n",
    "\n",
    "The analytics team of a store randomly sampled 2,000 customers and looked at customer behavior with respect to buying laptops and wireless mouses. The results are summarized in the table below, where:\n",
    "\n",
    "+ \"L\" means the customer bought a laptop\n",
    "+ \"M\" means the customer bought a mouse\n",
    "+ \"LC\" means the customer didn't buy a laptop\n",
    "+ \"MC\" means the customer didn't buy a mouse\n",
    "\n",
    "![team](img/cpm2_viz1.png)"
   ]
  },
  {
   "attachments": {},
   "cell_type": "markdown",
   "metadata": {},
   "source": [
    "Find:\n",
    "\n",
    "+ P(M), the probability that a customer buys a mouse — assign your answer to p_m.\n",
    "+ P(M|L), the probability that a customer buys a mouse given that they bought a laptop — assign your answer to p_m_given_l.\n",
    "+ P(M ∩ L), the probability that a customer buys both a mouse and a laptop — assign your answer to p_m_and_l.\n",
    "+ P(M ∪ L), the probability that a customer buys a mouse or a laptop — assign your answer to p_m_or_l. Check the hint if you don't remember how to calculate this.\n"
   ]
  },
  {
   "cell_type": "code",
   "execution_count": 1,
   "metadata": {},
   "outputs": [],
   "source": [
    "p_m = 515/2000\n",
    "p_m_given_l = 32/90\n",
    "p_m_and_l = 32/2000\n",
    "p_m_or_l = (32+483+58)/2000"
   ]
  },
  {
   "attachments": {},
   "cell_type": "markdown",
   "metadata": {},
   "source": [
    "## Complements"
   ]
  },
  {
   "attachments": {},
   "cell_type": "markdown",
   "metadata": {},
   "source": [
    "In the above exercise, we considered the table below and found that P(M|L) — the probability that a customer buys a mouse given that they bought a laptop — is $\\frac {32}{90}$\n",
    "\n",
    "Looking at the table above, we can see that P(M<sup>C</sup>|L), the probability that a customer doesn't buy a mouse given that they bought a laptop, is:"
   ]
  },
  {
   "attachments": {},
   "cell_type": "markdown",
   "metadata": {},
   "source": [
    "P(M<sup>C</sup>|L)=$\\frac {card(M^C∩L)}{card(L)}$=$\\frac {58}{90}$"
   ]
  },
  {
   "attachments": {},
   "cell_type": "markdown",
   "metadata": {},
   "source": [
    "we know that  for any random experiment either event A or AC will happen, so the event \"A or non-A\" (A ∪ A<sup>C</sup>) is certain and has a probability of one:\n",
    "\n",
    "P(A∪A<sup>C</sup>)=P(A)+P(A<sup>C</sup>)=1"
   ]
  },
  {
   "attachments": {},
   "cell_type": "markdown",
   "metadata": {},
   "source": [
    "Given that a customer bought a laptop, they will or will not also buy a mouse. This means we can be certain that either event (M|L) or (M<sup>C</sup>|L) will happen:"
   ]
  },
  {
   "attachments": {},
   "cell_type": "markdown",
   "metadata": {},
   "source": [
    "P(M|L)+P(M<sup>C</sup>|L)=1"
   ]
  },
  {
   "attachments": {},
   "cell_type": "markdown",
   "metadata": {},
   "source": [
    "In more general terms, for any two events A and B, we have:"
   ]
  },
  {
   "attachments": {},
   "cell_type": "markdown",
   "metadata": {},
   "source": [
    "P(A|B)+P(A<sup>C</sup>|B)=1"
   ]
  },
  {
   "attachments": {},
   "cell_type": "markdown",
   "metadata": {},
   "source": [
    "Given that a customer bought a laptop, they will or will not also buy a mouse. This means we can be certain that either event (M|L) or (MC|L) will happen:\n",
    "\n",
    "P(M|L)+P(M<sup>C</sup>|L)=1"
   ]
  },
  {
   "attachments": {},
   "cell_type": "markdown",
   "metadata": {},
   "source": [
    "We already know P(M|L) =$\\frac {32}{90} $ and P(M<sup>C</sup>|L) = $\\frac {58}{90} $ and we see that:\n",
    "\n",
    "P(M|L)+P(M<sup>C</sup>|L)=$\\frac {32}{90} $ +$\\frac {58}{90} $=1"
   ]
  },
  {
   "attachments": {},
   "cell_type": "markdown",
   "metadata": {},
   "source": [
    "In more general terms, for any two events A and B, we have:\n",
    "\n",
    "P(A|B)+P(A<sup>C</sup>|B)=1\n",
    "\n",
    "Using some algebra, we can swap terms in the equation above and deduce two important relations that are true for any event A and B:\n",
    "\n",
    "P(A|B)=1−P(A<sup>C</sup>|B)\n",
    "\n",
    "P(A<sup>C</sup>|B)=1−P(A|B)\n",
    "\n",
    "Note, however, that the relationship below is not true because the complement of P(A|B) is P(A<sup>C</sup>|B), not P(A|B<sup>C</sup>):\n",
    "\n",
    "P(A|B)=1−P(A|B<sup>C</sup>) .....................(incorrect)"
   ]
  },
  {
   "attachments": {},
   "cell_type": "markdown",
   "metadata": {},
   "source": [
    "Getting back to our example, we know that P(M|L) = 3290\n",
    "\n",
    ", and we see we'd get a wrong result if we used P(M|LC) in our formula instead of P(MC|L).\n",
    "\n",
    "P(M|L)=1−P(M|L<sup>C</sup>)=1−$\\frac {483}{1910}$=$\\frac {1427}{1910}$=0.7471 ......................(Incorrect)\n",
    "\n",
    "P(M|L)=1−P(M<sup>C</sup>|L)=1−$\\frac {58}{90}$=$\\frac {32}{90}$=0.3536.....................(Correct)"
   ]
  },
  {
   "attachments": {},
   "cell_type": "markdown",
   "metadata": {},
   "source": [
    "### Task \n",
    "\n",
    "For our electronics store example, say new data is collected, and we know that:\n",
    "\n",
    "+ P(B|M) = 0.1486, the probability that a customer buys batteries given that they bought a mouse is 0.1486.\n",
    "+ P(C|L) = 0.0928, the probability that a customer buys a cooler given that they bought a laptop is 0.0928.\n",
    "+ P(B<sup>C</sup>|C) = 0.7622, the probability that a customer doesn't buy batteries given that they bought a cooler is 0.7622.\n",
    "\n",
    "Using the two rules we learned above, find:\n",
    "\n",
    "+ P(BC|M), and assign your answer to p_non_b_given_m.\n",
    "+ P(CC|L), and assign your answer to p_non_c_given_l.\n",
    "+ P(B|C), and assign your answer to p_b_given_c.\n",
    "+ P(B|MC), and assign your answer to p_b_given_non_m. If you think you can't calculate the probability using any of the two rules above, assign the string 'not possible' to the same variable p_b_given_non_m.\n",
    "\n"
   ]
  },
  {
   "cell_type": "code",
   "execution_count": 1,
   "metadata": {},
   "outputs": [],
   "source": [
    "p_b_given_m = 0.1486\n",
    "p_c_given_l = 0.0928\n",
    "p_non_b_given_c = 0.7622"
   ]
  },
  {
   "cell_type": "code",
   "execution_count": 2,
   "metadata": {},
   "outputs": [],
   "source": [
    "p_non_b_given_m = 1-  p_b_given_m\n",
    "p_non_c_given_l = 1 - p_c_given_l\n",
    "p_b_given_c = 1 - p_non_b_given_c\n",
    "p_b_given_non_m = 'not possible'"
   ]
  },
  {
   "attachments": {},
   "cell_type": "markdown",
   "metadata": {},
   "source": [
    "### Order of Conditioning\n",
    "\n",
    "Consider the table below:\n",
    "\n",
    "![team](img/cpm2_viz1.png)\n",
    "\n",
    "\n",
    "We can calculate P(M|L) and P(L|M) using the data in the table, and we see they are not the same:\n",
    "\n",
    "P(M|L) =$\\frac {32}{90}$\n",
    "\n",
    "P(L|M)= $\\frac {32}{515}$\n"
   ]
  },
  {
   "cell_type": "markdown",
   "metadata": {},
   "source": [
    "This means how we condition matters,  P(A|B) does not necessarily have the same value as P(B|A)"
   ]
  },
  {
   "attachments": {},
   "cell_type": "markdown",
   "metadata": {},
   "source": [
    "### Task \n",
    "Given:\n",
    "\n",
    "![team](img/cpm2_viz1.png)\n",
    "\n",
    "Find:\n",
    "\n",
    "1. P(M|L<sup>C</sup>) — assign your answer to p_m_given_non_l.\n",
    "2. P(L<sup>C</sup>|M) — assign your answer to p_non_l_given_m.\n",
    "3. P(M ∩ L<sup>C</sup>) — assign your answer to p_m_and_non_l.\n",
    "4. P(L<sup>C</sup> ∩ M) — assign your answer to p_non_l_and_m. "
   ]
  },
  {
   "cell_type": "code",
   "execution_count": 3,
   "metadata": {},
   "outputs": [],
   "source": [
    "p_m_given_non_l = 483/1910\n",
    "p_non_l_given_m = 483/515\n",
    "p_m_and_non_l = 483/ 2000\n",
    "p_non_l_and_m = 483/ 2000"
   ]
  },
  {
   "attachments": {},
   "cell_type": "markdown",
   "metadata": {},
   "source": [
    "## The Multiplication Rule\n",
    "\n",
    "In the previous exercise, we calculated P(M ∩ L<sup>C</sup>) by using data from table given. Note, however, that we can't always calculate probabilities for events of the form P(A ∩ B) just by looking at some data in a table.\n",
    "\n",
    "Suppose we have a bowl with six green marbles and four red marbles. If we're drawing one marble at a time randomly and without replacement (without replacement means we don't put the marbles drawn back in the bowl), then what's the probability of getting a red marble on the first draw, followed by a green marble on the second draw?\n",
    "\n",
    "In probability notation, we want to find P(A ∩ B), where:\n",
    "\n",
    "+ A is the event that we get a red marble on the first draw\n",
    "+ B is the event that we get a green marble on the second draw\n",
    "\n",
    "In this case, we don't have a table anymore that we can use to calculate P(A ∩ B). However, we can find a solution by using the conditional probability formula to develop a separate formula for P(A ∩ B). Using a little algebra, we have:\n",
    "\n",
    "P(A | B)=$\\frac {P(A∩B)}{P(B)}$\n",
    "\n",
    "P(A∩B)= P(B)⋅P(A|B)\n",
    "\n",
    "Above, we used P(A|B) to develop our formula, but note that we can also use P(B|A):\n",
    "\n",
    "P(B | A)=$\\frac {P(B∩A)}{P(A)}$\n",
    "\n",
    "P(B∩A)=P(A)⋅P(B|A)\n"
   ]
  },
  {
   "attachments": {},
   "cell_type": "markdown",
   "metadata": {},
   "source": [
    "Note that A∩B=B∩A, which means that P(A∩B)=P(B∩A) . As a consequence, we have two different formulas we can use to calculate P(A ∩ B):\n",
    "\n",
    "P(A∩B)=P(B)⋅P(A|B)\n",
    "\n",
    "P(A∩B)=P(A)⋅P(B|A)\n",
    "\n",
    "Either of the two formulas above is called the multiplication rule of probability — or, in short, the multiplication rule."
   ]
  },
  {
   "attachments": {},
   "cell_type": "markdown",
   "metadata": {},
   "source": [
    "We can use the multiplication rule to calculate P(A ∩ B) in our example with the marbles, where A is the event that we get a red marble on the first draw, and B is the event that we get a green marble on the second draw.\n",
    "\n",
    "Out of the ten marbles in the bowl, four marbles are red, so we have:\n",
    "\n",
    "P(A)=$\\frac {4}{10}$\n",
    "\n",
    "We're sampling without replacement (we don't put back the marbles once we draw them), which means that for the second draw, we have nine marbles left. Given that the first marble is red, we have six green marbles left in the bowl, so the probability of getting a green marble on the second draw (B) given that we got a red marble on the first draw (A) is:\n",
    "\n",
    "P(B|A)=$\\frac {6}{9} $"
   ]
  },
  {
   "attachments": {},
   "cell_type": "markdown",
   "metadata": {},
   "source": [
    "Using the multiplication rule, we see that P(A ∩ B), the probability of drawing a red marble followed by a green marble, is:\n",
    "\n",
    "P(A∩B)=P(A)⋅P(B|A)=$\\frac {4}{10}$⋅ $\\frac {6}{9}$= $\\frac {24}{90}$"
   ]
  },
  {
   "attachments": {},
   "cell_type": "markdown",
   "metadata": {},
   "source": [
    "### Task\n",
    "\n",
    "For the exercises below, we know:\n",
    "\n",
    "+ The probability that a customer buys RAM memory from an electronics store is P(RAM) = 0.0822.\n",
    "+ The probability that a customer buys a gaming laptop is P(GL) = 0.0184.\n",
    "+ The probability that a customer buys RAM memory given that they bought a gaming laptop is P(RAM | GL) = 0.0022.\n",
    "\n",
    "Calculate:\n",
    "\n",
    "+ P(GL ∩ RAM) — assign your answer to p_gl_and_ram.\n",
    "+ P(RAM<sup>c</sup> | GL) — assign your answer to p_non_ram_given_gl.\n",
    "+  P(GL ∩ RAM<sup>c</sup>) — assign your answer to p_gl_and_non_ram.\n",
    "+ P(GL ∪ RAM) — assign your answer to p_gl_or_ram.\n"
   ]
  },
  {
   "cell_type": "code",
   "execution_count": null,
   "metadata": {},
   "outputs": [],
   "source": [
    "p_ram = 0.0822\n",
    "p_gl = 0.0184\n",
    "p_ram_given_gl = 0.0022\n",
    "p_gl_and_ram = p_gl * p_ram_given_gl\n",
    "p_non_ram_given_gl = 1 - p_ram_given_gl\n",
    "p_gl_and_non_ram = p_gl * p_non_ram_given_gl\n",
    "p_gl_or_ram = p_gl + p_ram - p_gl_and_ram"
   ]
  },
  {
   "attachments": {},
   "cell_type": "markdown",
   "metadata": {},
   "source": [
    "## Statistical independence\n",
    "\n",
    "If event A occurs and the probability of B remains unchanged and vice versa (A and B can be any events for any random experiment), then events A and B are said to be statistically independent (although the term \"independent\" is more often used).\n",
    "\n",
    "In mathematical terms, if events A and B are independent, it means that:\n",
    "\n",
    "P(A)=P(A|B)\n",
    "\n",
    "P(B)=P(B|A)\n",
    "\n",
    "P(A∩B)=P(A)⋅P(B)"
   ]
  },
  {
   "attachments": {},
   "cell_type": "markdown",
   "metadata": {},
   "source": [
    "## Task\n",
    "\n",
    "A fair six-sided die is rolled twice and the following three events are considered:\n",
    "\n",
    "+ Event K — the die showed a 4 on the second roll\n",
    "+ Event L — the die showed a 2 on the first roll\n",
    "+ Event M — the die showed an even number on the second roll\n",
    "\n",
    "Find whether the following events are independent or not:\n",
    "\n",
    "+ Events K and L — assign the string 'independent' to a variable named k_and_l if the events are independent, otherwise assign the string 'dependent'.\n",
    "+ Events L and M — assign the string 'independent' to a variable named l_and_m if the events are independent, otherwise assign the string 'dependent'.\n",
    "+ Events K and M — assign the string 'independent' to a variable named k_and_m if the events are independent, otherwise assign the string 'dependent'."
   ]
  },
  {
   "cell_type": "code",
   "execution_count": 5,
   "metadata": {},
   "outputs": [],
   "source": [
    "k_and_l = 'independent'\n",
    "l_and_m = 'independent'\n",
    "k_and_m = 'dependent'"
   ]
  },
  {
   "attachments": {},
   "cell_type": "markdown",
   "metadata": {},
   "source": [
    "## Statistical Dependence\n",
    "\n",
    "In the previous lesson, we saw events A and B are independent if:\n",
    "\n",
    "P(A)=P(A|B)\n",
    "\n",
    "P(B)=P(B|A)\n",
    "\n",
    "P(A∩B)=P(A)⋅P(B)\n",
    "\n",
    "If any of the three relationships above does not hold, then events A and B are said to be statistically dependent (or just \"dependent\").\n",
    "\n",
    "\n",
    "If events events A and B are dependent, it means the occurrence of event A changes the probability of event B and vice versa. In mathematical terms, this means that:\n",
    "\n",
    "P(A)≠P(A|B)\n",
    "\n",
    "P(B)≠P(B|A)\n",
    "\n",
    "P(A∩B)≠P(A)⋅P(B)\n",
    "\n",
    "n the previous exercise, for instance, we considered rolling a fair six-sided die twice and saw events K and M are not independent, where K and M were:\n",
    "\n",
    "+ Event K: The die showed a 4 on the second roll.\n",
    "+ Event M: The die showed an even number on the second roll.\n",
    "\n",
    "P(K) — the probability that we get a 4 on the second roll — is $\\frac {1}{6}$\n",
    "(it doesn't matter what happened on the first roll):\n",
    "\n",
    "P(K)=$\\frac{number of successful outcomes}{total number of possible outcomes}$=$\\frac {card({4})}{card({1,2,3,4,5,6})}$=$\\frac {1}{6}$\n",
    "\n",
    "However, P(K|M) — the probability that event K occurs given that event M occurred (the number is even on the second roll) — is not 16\n",
    "\n",
    "anymore, because knowing that M occurs reduces the sample space (the number of total possible outcomes):\n",
    "\n",
    "P(K|M)=$\\frac{number of successful outcomes}{total number of possible outcomes}$=$\\frac {card({4})}{card({2,4,6})}$=$\\frac {1}{3}$\n",
    "\n",
    "We see P(K)=$\\frac {1}{6}$ and P(K|M)=$\\frac {1}{3}$, so the relationship P(K)=P(K|M) doesn't hold. This in turn means event K and M are not independent (so they are dependent). If M occurs (the number is even), the probability of K changes — event K is more likely to occur if M occurs: P(K|M)>P(K)."
   ]
  },
  {
   "attachments": {},
   "cell_type": "markdown",
   "metadata": {},
   "source": [
    "To prove two events are dependent, it's enough to prove wrong only one of these three relationships:\n",
    "\n",
    "P(A)=P(A|B)\n",
    "\n",
    "P(B)=P(B|A)\n",
    "\n",
    "P(A∩B)=P(A)⋅P(B)\n",
    "\n",
    "If two events A and B are dependent, then we can't use the formula P(A∩B)=P(A)⋅P(B)\n",
    "— this formula only works under the assumption that P(A)=P(A|B) and P(B)=P(B|A), which is not true for dependent events.\n",
    "\n",
    "To calculate P(A ∩ B) for dependent events, however, we can use either of the following formulas:\n",
    "\n",
    "P(A∩B)=P(A)⋅P(B|A)\n",
    "\n",
    "P(A∩B)=P(B)⋅P(A|B)"
   ]
  },
  {
   "attachments": {},
   "cell_type": "markdown",
   "metadata": {},
   "source": [
    "Both formulas will lead to the same result. However, depending on the problem we're trying to solve, it may be easier to calculate P(A|B) rather than P(B|A) or vice versa, so we should choose the formula that's easier to work with."
   ]
  },
  {
   "attachments": {},
   "cell_type": "markdown",
   "metadata": {},
   "source": [
    "### Task\n",
    "Use the table below\n",
    "\n",
    "![team](img/cpm2_viz1.png)\n",
    "\n",
    "Find whether the following events are independent or not (check the hint if you don't know how to solve this):\n",
    "\n",
    "+ Events L and M — assign the string 'independent' to a variable named l_and_m if the events are independent, otherwise assign the string 'dependent'.\n",
    "+ Events L and MC — assign the string 'independent' to a variable named l_and_non_m if the events are independent, otherwise assign the string 'dependent'.\n"
   ]
  },
  {
   "attachments": {},
   "cell_type": "markdown",
   "metadata": {},
   "source": [
    "Use the formulas we learned to calculate \n",
    "\n",
    "P(L ∩ M) — assign your answer to p_l_and_m.\n",
    "\n",
    "P(L ∩ M<sup>c</sup>) — assign your answer to p_l_and_non_m."
   ]
  },
  {
   "cell_type": "code",
   "execution_count": 6,
   "metadata": {},
   "outputs": [],
   "source": [
    "# Exercise 1 & 2\n",
    "l_and_m = 'dependent'\n",
    "l_and_non_m = 'dependent'\n",
    "\n",
    "# Exercise 3\n",
    "p_l = 90/2000\n",
    "p_m_given_l = 32/90\n",
    "p_l_and_m = p_l * p_m_given_l\n",
    "\n",
    "# Exercise 4\n",
    "p_not_m_given_l = 58/90\n",
    "p_l_and_non_m = p_l * p_not_m_given_l"
   ]
  },
  {
   "attachments": {},
   "cell_type": "markdown",
   "metadata": {},
   "source": [
    "## Independence of Three Events\n",
    "\n",
    "For the past few lesson, we discussed about independence and the multiplication rule. However, you might have noticed that we've only been considering two events at most. What if we have three events, A, B, and C? How do we find whether or not they are independent? And what multiplication rule do we use with three events?\n",
    "\n",
    "When we discussed the multiplication rule in the previous course, you might recall we explained that the rule can be extended for any number of events, provided they are all independent. If we have events A, B, C,..., X, Y, Z, and they are all independent, then the multiplication rule can extend to:\n",
    "\n",
    "P(A∩B∩C…X∩Y∩Z)=P(A)⋅P(B)⋅P(C)⋅…⋅P(X)⋅P(Y)⋅P(Z)\n",
    "\n",
    "To find whether three events — A, B, C — are independent or not, two conditions must hold. First, the three events have to be independent one from another, which means the following relationships must be true:\n",
    "\n",
    "P(A∩B)=P(A)⋅P(B)\n",
    "\n",
    "P(A∩C)=P(A)⋅P(C)\n",
    "\n",
    "P(B∩C)=P(B)⋅P(C)\n",
    "\n",
    "Above, events A, B, C are independent in pairs — we say they are pairwise independent.\n",
    "\n",
    "So pairwise independence is the first condition that has to be respected if three events A, B, C are to be independent. The second condition is that they should be also independent together, which mathematically means:\n",
    "\n",
    "P(A∩B∩C)=P(A)⋅P(B)⋅P(C)\n",
    "\n",
    "If both conditions above hold, events A, B, C are said to be mutually independent.\n",
    "\n",
    "We'll now look at an example where three events satisfy the condition of pairwise independence, and yet they are not mutually independent. Let's say we toss a fair coin twice and consider the following three events, where:\n",
    "\n",
    "+ A is the event that we get heads on both tosses, or heads on the first toss and tails on the second: A = {HH, HT}\n",
    "+ B is the event that we get heads on both tosses, or tails on the first toss and heads on the second: B = {HH, TH}\n",
    "+ C is the event that we get heads on both tosses, or tails on both tosses: C = {HH, TT}\n",
    "\n",
    "The entire sample space has four possible outcomes:\n",
    "\n",
    "Ω={HH, HT, TH, TT}\n",
    "\n",
    "Each of the events A, B, C have two successful outcomes, so we have:\n",
    "\n",
    "P(A)=P(B)=P(C)=$\\frac {2}{4}$=$\\frac {1}{2}$\n",
    "\n",
    "Notice that A∩B={HH} , so P(A ∩ B) means finding the probability that outcome \"HH\" happens:\n",
    "\n",
    "P(A∩B)=$\\frac {card({HH})}{card({Ω})}$=$\\frac {1}{4}$\n",
    "\n",
    "Multiplying P(A) by P(B) gives us the same result for P(A ∩ B), so A and B are independent:"
   ]
  },
  {
   "attachments": {},
   "cell_type": "markdown",
   "metadata": {},
   "source": [
    "Multiplying P(A) by P(B) gives us the same result for P(A ∩ B), so A and B are independent:\n",
    "\n",
    "P(A∩B)=P(A)⋅P(B)=$\\frac {1}{2}$⋅$\\frac {1}{2}$=$\\frac {1}{4}$\n",
    "\n",
    "By the same reasoning, we see that pairwise independence holds for all three events:\n",
    "\n",
    "P(A∩B)=$\\frac {1}{4}$=P(A)⋅P(B)\n",
    "\n",
    "P(A∩C)=$\\frac {1}{4}$=P(A)⋅P(C)\n",
    "\n",
    "P(B∩C)=$\\frac {1}{4}$=P(B)⋅P(C)\n",
    "\n",
    "To check for the last condition, notice that A∩B∩C={HH}, so:\n",
    "\n",
    "P(A∩B∩C)=$\\frac {card({HH})}{card({Ω})}$=$\\frac {1}{4}$\n",
    "\n",
    "However, multiplying P(A), P(B), P(C) together gives us a different result:\n",
    "\n",
    "P(A)⋅P(B)⋅P(C)=$\\frac {1}{2}$⋅$\\frac {1}{2}$⋅$\\frac {1}{2}$=18P(A∩B∩C)=$\\frac {1}{4}$≠P(A)⋅P(B)⋅P(C)\n",
    "\n",
    "We conclude that events A, B, C are not mutually independent, even though they are pairwise independent."
   ]
  },
  {
   "attachments": {},
   "cell_type": "markdown",
   "metadata": {},
   "source": [
    "### Task\n",
    "\n",
    "For our electronics store example, say new data is collected, and we know that:\n",
    "\n",
    "+ The probability that a customer buys an electric toothbrush is P(ET) = 0.0432.\n",
    "+ The probability that a customer buys an air conditioning system is P(AC) = 0.0172\n",
    "+ The probability that a customer buys a PlayStation is P(PS) = 0.0236.\n",
    "\n",
    "Assuming events ET, AC, and PS are mutually independent, calculate:\n",
    "\n",
    "+ P(ET ∩ PS) — assign your answer to p_et_and_ps.\n",
    "+ P(ET ∩ AC) — assign your answer to p_et_and_ac.\n",
    "+ P(AC ∩ PS) — assign your answer to p_ac_and_ps.\n",
    "+ P(ET ∩ AC ∩ PS) — assign your answer to p_et_and_ac_and_ps.\n"
   ]
  },
  {
   "cell_type": "code",
   "execution_count": 7,
   "metadata": {},
   "outputs": [],
   "source": [
    "p_et = 0.0432\n",
    "p_ac = 0.0172\n",
    "p_ps = 0.0236\n",
    "\n",
    "p_et_and_ps = p_et * p_ps\n",
    "\n",
    "p_et_and_ac = p_et * p_ac\n",
    "\n",
    "p_ac_and_ps = p_ac * p_ps\n",
    "\n",
    "p_et_and_ac_and_ps = p_et_and_ac * p_ps"
   ]
  },
  {
   "attachments": {},
   "cell_type": "markdown",
   "metadata": {},
   "source": [
    "### Formula for Three Independent Events\n",
    "\n",
    "On the previous screen, we saw events A, B, C are mutually independent only if they meet two conditions. First, the condition of pairwise independence must hold:\n",
    "\n",
    "P(A∩B)=P(A)⋅P(B)\n",
    "\n",
    "P(A∩C)=P(A)⋅P(C)\n",
    "\n",
    "P(B∩C)=P(B)⋅P(C)\n",
    "\n",
    "Second, events A, B, and C must be independent together:\n",
    "\n",
    "P(A∩B∩C)=P(A)⋅P(B)⋅P(C)\n",
    "\n",
    "If any of these two conditions are not fulfilled, then A, B, C are not mutually independent, and we cannot use the multiplication rule in the above form.\n",
    "\n",
    "What we really need is to develop a multiplication rule in terms of conditional probability that works correctly for cases where we have three dependent events. Let's start by recalling that:\n",
    "\n",
    "P(A∩B)=P(A)⋅P(B|A)\n",
    "\n",
    "Note that we can think of P(A ∩ B ∩ C) as the probability of two events instead of three:\n",
    "\n",
    "\\begin{equation}\n",
    "P(\\overbrace{A \\cap B \\cap C)}^{\\text{3 events}} = P(\\overbrace{(\\underbrace{A \\cap B}_{\\text{1 event}}) \\cap C)}^{\\text{2 events}}\n",
    "\\end{equation}\n",
    "\n",
    "With two events, we can now use the logic of the formula P(A \\cap B) = P(A) \\cdot P(B|A) to arrive at:\n",
    "\n",
    "\\begin{equation}\n",
    "P((A \\cap B) \\cap C) = P(A \\cap B) \\cdot P(C\\ |\\ A \\cap B)\n",
    "\\end{equation}"
   ]
  },
  {
   "attachments": {},
   "cell_type": "markdown",
   "metadata": {},
   "source": [
    "Since P((A \\cap B) \\cap C) = P(A \\cap B \\cap C) and P(A \\cap B) = P(A) \\cdot P(B|A), then we have:\n",
    "\n",
    "![latex](img/cpm2_viz3_latex.png)\n",
    "\n",
    "Now we have a final multiplication rule we can use for cases where we have three mutually dependent events:\n",
    "\n",
    "\\begin{equation}\n",
    "P(A \\cap B \\cap C) = P(A) \\cdot P(B|A) \\cdot P(C\\ |\\ A \\cap B)\n",
    "\\end{equation}\n",
    "\n",
    "Note that the same kind of reasoning can be used to extend the multiplication rule to four or more events."
   ]
  },
  {
   "attachments": {},
   "cell_type": "markdown",
   "metadata": {},
   "source": [
    "### Task\n",
    "\n",
    "For our electronics store example, say new data is collected. We know that:\n",
    "\n",
    "+ The probability that a customer doesn't buy a set of laptop stickers is P(LSC) = 0.9821.\n",
    "+ The probability that a customer buys screen cleaning wipes given that they bought a set of laptop stickers is P(CW | LS) = 0.0079.\n",
    "+ The probability that a customer buys a laptop given that they bought both a set of laptop stickers and screen cleaning wipes is P(L | LS ∩ CW) = 0.2908.\n",
    "\n",
    "Assume events LS, CW, and L are dependent and calculate P(LS ∩ CW ∩ L). Assign your answer to p_ls_and_cw_and_l."
   ]
  },
  {
   "cell_type": "code",
   "execution_count": 8,
   "metadata": {},
   "outputs": [],
   "source": [
    "p_non_ls = 0.9821\n",
    "p_cw_given_ls = 0.0079\n",
    "p_l_given_ls_and_cw = 0.2908\n",
    "p_ls = 1 - p_non_ls\n",
    "p_ls_and_cw_and_l = p_ls * p_cw_given_ls * p_l_given_ls_and_cw"
   ]
  }
 ],
 "metadata": {
  "kernelspec": {
   "display_name": "Python 3",
   "language": "python",
   "name": "python3"
  },
  "language_info": {
   "codemirror_mode": {
    "name": "ipython",
    "version": 3
   },
   "file_extension": ".py",
   "mimetype": "text/x-python",
   "name": "python",
   "nbconvert_exporter": "python",
   "pygments_lexer": "ipython3",
   "version": "3.10.9 (tags/v3.10.9:1dd9be6, Dec  6 2022, 20:01:21) [MSC v.1934 64 bit (AMD64)]"
  },
  "orig_nbformat": 4,
  "vscode": {
   "interpreter": {
    "hash": "0e1f169f5711a90ff09b1ce155e8835a9bac5ac4c242468736f19be364069406"
   }
  }
 },
 "nbformat": 4,
 "nbformat_minor": 2
}
