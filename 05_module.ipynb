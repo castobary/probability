{
 "cells": [
  {
   "attachments": {},
   "cell_type": "markdown",
   "metadata": {},
   "source": [
    "# Conditional Probability: Fundamentals"
   ]
  },
  {
   "attachments": {},
   "cell_type": "markdown",
   "metadata": {},
   "source": [
    "Conditional probability refers to the chances that some outcome occurs given that another event has also occurred. It is often stated as the probability of B given A and is written as P(B|A), where the probability of B depends on that of A happening."
   ]
  },
  {
   "attachments": {},
   "cell_type": "markdown",
   "metadata": {},
   "source": [
    "## Background Information"
   ]
  },
  {
   "attachments": {},
   "cell_type": "markdown",
   "metadata": {},
   "source": [
    "Without being provided with extra information, the probability of getting a 5 when rolling a fair six-sided die is  P(5) = $\\frac {1}{6}$"
   ]
  },
  {
   "attachments": {},
   "cell_type": "markdown",
   "metadata": {},
   "source": [
    "Now suppose the die is rolled and we're told some new information: the die showed an odd number (1, 3, or 5) after landing. Is the probability of getting a 5 still P(5)=$\\frac {1}{6}$? Or should we instead update the probability based on the information we have?\n",
    "\n",
    "When we don't know whether the number is odd, the possible outcomes of the experiment are 1, 2, 3, 4, 5, or 6. But after we find out the number is odd, the possible outcomes are 1, 3, or 5. In other words, the new information we got reduced the sample space from {1, 2, 3, 4, 5, 6} to {1, 3, 5}:"
   ]
  },
  {
   "attachments": {},
   "cell_type": "markdown",
   "metadata": {},
   "source": [
    "Ω={1,2,3,4,5,6}    becomes−−−−−→    Ω={1,3,5}"
   ]
  },
  {
   "attachments": {},
   "cell_type": "markdown",
   "metadata": {},
   "source": [
    "With Ω={1,3,5}, we now have three total possible outcomes (1, 3, and 5) and only one successful outcome (5), so P(5)≠ $\\frac {1}{6}$, but rather:\n",
    "P(5)= $\\frac {1}{3}$"
   ]
  },
  {
   "attachments": {},
   "cell_type": "markdown",
   "metadata": {},
   "source": [
    "![conditional](img/cpm1_viz1.png)"
   ]
  },
  {
   "attachments": {},
   "cell_type": "markdown",
   "metadata": {},
   "source": [
    "#### Task\n",
    "\n",
    "A fair six-sided die is rolled. All we know is that the number we got is less than 5. Calculate:\n",
    "\n",
    "1. The probability of getting a 3. Assign your answer to p_3.\n",
    "2. The probability of getting a 6. Assign your answer to p_6.\n",
    "3. The probability of getting an odd number. Assign your answer to p_odd.\n",
    "4. The probability of getting an even number. Assign your answer to p_even.\n"
   ]
  },
  {
   "cell_type": "code",
   "execution_count": 1,
   "metadata": {},
   "outputs": [],
   "source": [
    "no_outcomes = 5"
   ]
  },
  {
   "cell_type": "code",
   "execution_count": 2,
   "metadata": {},
   "outputs": [],
   "source": [
    "p_3 = 1/no_outcomes"
   ]
  },
  {
   "cell_type": "code",
   "execution_count": 6,
   "metadata": {},
   "outputs": [],
   "source": [
    "p_6 = 0/no_outcomes"
   ]
  },
  {
   "cell_type": "code",
   "execution_count": 7,
   "metadata": {},
   "outputs": [],
   "source": [
    "p_odd =  2/no_outcomes"
   ]
  },
  {
   "cell_type": "code",
   "execution_count": 5,
   "metadata": {},
   "outputs": [],
   "source": [
    "p_even = 2/no_outcomes"
   ]
  },
  {
   "attachments": {},
   "cell_type": "markdown",
   "metadata": {},
   "source": [
    "## Conditional Probability\n",
    "\n",
    "On the previous screen, we considered a die roll and updated P(5) from $\\frac {1}{6}$ to $\\frac {1}{3}$ based on the information that the number we got is odd:\n",
    "\n",
    "P(5)=$\\frac {1}{6}$   odd number−−−−−−−→    P(5)=$\\frac {1}{3}$\n",
    "\n",
    "Taken individually, however, P(5)=$\\frac {1}{6}$ and P(5)=$\\frac {1}{6}$ are correct answers to different questions:"
   ]
  },
  {
   "attachments": {},
   "cell_type": "markdown",
   "metadata": {},
   "source": [
    "+ What is the probability of getting a 5?\n",
    "+ What is the probability of getting a 5 given the die showed an odd number?\n",
    "\n",
    "P(5)=$\\frac {1}{6}$ is a correct answer to the first question, where we only want to find the probability of getting a 5.\n",
    "\n",
    "On the other side, P(5)=$\\frac {1}{3}$ is a correct answer to the second question, where we introduce a condition: the die showed an odd number. To account for this condition and for the fact that two different questions are being addressed, we need to introduce some extra notation:"
   ]
  },
  {
   "attachments": {},
   "cell_type": "markdown",
   "metadata": {},
   "source": [
    "For notation simplicity, P(5 given the die showed an odd number) becomes `P(5 | odd)`. The vertical bar character `( | )` should be read as \"given.\" We can read `P(5 | odd)` as \"the probability of getting a 5 given that the die showed an odd number.\""
   ]
  },
  {
   "attachments": {},
   "cell_type": "markdown",
   "metadata": {},
   "source": [
    "Another way to read `P(5 | odd)` is \"the probability of getting a 5 with the condition that the die showed an odd number.\" For this reason, we can also call `P(5 | odd)` the conditional probability of getting a 5 given the die showed an odd number."
   ]
  },
  {
   "attachments": {},
   "cell_type": "markdown",
   "metadata": {},
   "source": [
    "#### Task\n",
    "\n",
    "A student is randomly selected from a class. All we know is that he was born during winter. Assume the winter months are December, January, and February and ignore the fact that these three months have different number of days. Find:\n",
    "\n",
    "1. The probability that he was born in December. Assign your answer to p_december.\n",
    "2. The probability that he was born during summer. Assign your answer to p_summer.\n",
    "3. The probability that he was born in a month which ends in letter \"r\" — \"September\", for instance, ends in \"r\", while \"April\" doesn't. Assign your answer to p_ends_r"
   ]
  },
  {
   "cell_type": "code",
   "execution_count": 8,
   "metadata": {},
   "outputs": [],
   "source": [
    "p_december = 1/3\n",
    "p_summer = 0/3\n",
    "p_ends_r = 1/3"
   ]
  },
  {
   "attachments": {},
   "cell_type": "markdown",
   "metadata": {},
   "source": [
    "## Conditional Probability Formula\n",
    "\n",
    "Say we roll a fair six-sided die and want to find the probability of getting an odd number, given the die showed a number greater than 1 after landing. Using probability notation, we want to find `P(A|B)` where:\n",
    "\n",
    "+ A is the event that the number is odd: `A = {1, 3, 5}`\n",
    "+ B is the event that the number is greater than 1: `B = {2, 3, 4, 5, 6}`\n",
    "\n",
    "To find `P(A|B)`, we need to use the following formula:\n",
    "\n",
    "`P(A|B)`=$\\frac{numberof successful outcomes}{total number of possible outcomes}$"
   ]
  },
  {
   "attachments": {},
   "cell_type": "markdown",
   "metadata": {},
   "source": [
    "We know for sure event B happened (the number is greater than 1), so the sample space is reduced from {1, 2, 3, 4, 5, 6} to {2, 3, 4, 5, 6}:\n",
    "\n",
    "Ω={1,2,3,4,5,6}becomes−−−−−→Ω={2,3,4,5,6}\n",
    "\n",
    "This means we're left with only five total possible outcomes if B happens:\n",
    "\n",
    "total number of possible outcomes=5\n",
    "\n",
    "The total number of possible outcomes above is given by the number of elements in the reduced sample space Ω={2,3,4,5,6}— there are five elements.\n",
    "\n",
    "The number of elements in a set is called the cardinal of the set. Ω\n",
    "is a set, and the cardinal of Ω={2,3,4,5,6} is:"
   ]
  },
  {
   "attachments": {},
   "cell_type": "markdown",
   "metadata": {},
   "source": [
    "cardinal(Ω)=5\n",
    "\n",
    "In set notation, cardinal(Ω) is abbreviated as card(Ω), so we have:\n",
    "\n",
    "total number of possible outcomes=card(Ω)=5\n",
    "\n",
    "Note that Ω={2,3,4,5,6}\n",
    "and B={2,3,4,5,6} are identical, which means card(Ω)=card(B)=5. Therefore, we have:\n",
    "\n",
    "total number of possible outcomes=card(B)=5"
   ]
  },
  {
   "attachments": {},
   "cell_type": "markdown",
   "metadata": {},
   "source": [
    "So far, we've developed half of our formula:\n",
    "\n",
    "`P(A|B)`=$\\frac{number of successful outcomes}{card(B)}$"
   ]
  },
  {
   "attachments": {},
   "cell_type": "markdown",
   "metadata": {},
   "source": [
    "Recall we're interested in finding the probability of getting an odd number, given the number the die showed is greater than 1. There are three odd numbers on a regular six-sided die (1, 3, and 5), but we know for sure we got a number greater than 1, so the only possible odd numbers we can get are 3 and 5. This means that the number of possible successful outcomes is two:\n",
    "\n",
    "number of successful outcomes=2\n",
    "\n",
    "The only possible odd numbers we can get are only 3 and 5, and the number of possible successful outcomes is also given by the cardinal of the set {3, 5}:\n",
    "\n",
    "number of successful outcomes=2=card({3,5})"
   ]
  },
  {
   "attachments": {},
   "cell_type": "markdown",
   "metadata": {},
   "source": [
    "Note that the set {3, 5} is the result of the intersection between set A and set B:\n",
    "\n",
    "A∩B={3,5}\n",
    "\n",
    "![cond](img/cpm1_viz2.png)"
   ]
  },
  {
   "attachments": {},
   "cell_type": "markdown",
   "metadata": {},
   "source": [
    "So the number of successful outcomes is given by the cardinal of the intersection between set A and B:\n",
    "\n",
    "total number of successful outcomes=card(A∩B)=card({3,5})=2\n",
    "\n",
    "We can plug that into our formula and calculate P(A|B):\n",
    "\n",
    "P(A | B)=$\\frac{card(A∩B)}{card(B)}$=25\n",
    "\n",
    "We now have a formula for conditional probability, defined purely in terms of A and B, where A and B can be any events (not just events related to a die roll):"
   ]
  },
  {
   "attachments": {},
   "cell_type": "markdown",
   "metadata": {},
   "source": [
    "We now have a formula for conditional probability, defined purely in terms of A and B, where A and B can be any events (not just events related to a die roll):\n",
    "\n",
    "P(A | B)=$\\frac{card(A∩B)}{card(B)}$"
   ]
  },
  {
   "attachments": {},
   "cell_type": "markdown",
   "metadata": {},
   "source": [
    "#### Task\n",
    "\n",
    "Two fair six-sided dice are simultaneously rolled, and the two numbers they show are added together. The diagram below shows all the possible results that we can get from adding the two numbers together.\n",
    "\n",
    "![Two die](img/pr1m2_sums.png)\n",
    "\n",
    "1. Find P(A|B), where A is the event where the sum is an even number, and B is the event that the sum is less than eight.\n",
    "\n",
    "2. Find card(B). Assign your answer to card_b.\n",
    "        Note that you'll have to treat identical sums differently if they come from different die numbers. On the diagram above, we see that we have three sums of 4, but they all come from different die outcomes: (3, 1), (2,2), and (1, 3), where the first number describes the outcome of the first die throw, and the second number the outcome of the second die throw.\n",
    "\n",
    "3. Find card(A ∩ B). Assign your answer to card_a_and_b.\n",
    "4. Calculate P(A|B). Assign your answer to p_a_given_b."
   ]
  },
  {
   "cell_type": "code",
   "execution_count": 9,
   "metadata": {},
   "outputs": [],
   "source": [
    "card_b = 21\n",
    "card_a_and_b = 9\n",
    "p_a_given_b = card_a_and_b / card_b"
   ]
  },
  {
   "attachments": {},
   "cell_type": "markdown",
   "metadata": {},
   "source": [
    "## Real life example\n",
    "\n",
    " A team of biologists wants to measure the efficiency of a new HIV test they developed (HIV is a virus that causes AIDS, a disease which affects the immune system). They used the new method to test 53 people, and the results are summarized in the table below:\n",
    "\n",
    " ![Hiv](img/cpm1_table1.png)"
   ]
  },
  {
   "attachments": {},
   "cell_type": "markdown",
   "metadata": {},
   "source": [
    "By reading the table above, we can see that:\n",
    "\n",
    "+ 23 people are infected with HIV.\n",
    "+ 30 people are not infected with HIV (HIVC means not infected with HIV — recall from the previous course that the superscript \"C\" indicates a set complement).\n",
    "+ 45 people tested positive for HIV .\n",
    "+ 8 people tested negative for HIV.\n",
    "+ Out of the 23 infected people, 21 tested positive (correct diagnosis).\n",
    "+ Out of the 30 not-infected people, 24 tested positive (wrong diagnosis).\n",
    "\n",
    "The team now intends to use these results to calculate probabilities for new patients and figure out whether the test is reliable enough to use in hospitals. They want to know:\n",
    "\n",
    "+ What is the probability of testing positive, given that a patient is infected with HIV?\n",
    "+ What is the probability of testing negative, given that a patient is not infected with HIV?\n",
    "\n"
   ]
  },
  {
   "attachments": {},
   "cell_type": "markdown",
   "metadata": {},
   "source": [
    "`P(T+ | HIV)` is the probability of testing positive, given that the patient is infected with HIV, and, according to the formula, we have:\n",
    "\n",
    "`P(T+|HIV)`=$\\frac {card(T^+∩HIV)}{card(HIV)}$"
   ]
  },
  {
   "attachments": {},
   "cell_type": "markdown",
   "metadata": {},
   "source": [
    "There are 23 people infected with HIV, which means card(HIV)=23. Out of 23 people who are infected with HIV, 21 also tested positive, which means card(T<sup>+</sup>∩HIV)=21.\n",
    "\n",
    "![ppv](img/cpm1_viz3.png)"
   ]
  },
  {
   "attachments": {},
   "cell_type": "markdown",
   "metadata": {},
   "source": [
    "This means that P(T<sup>+</sup> | HIV) is:\n",
    "\n",
    "P(T<sup>+</sup>|HIV)=$\\frac {21}{23}$=0.9130\n",
    "\n",
    "The probability of testing positive, given that the patient is infected with HIV, is therefore 91.30% — this may suggest that the new test is fairly good at detecting the HIV virus when the virus is actually present. However, at a probability of 91.31%, we can expect that for every 10,000 patients infected with HIV, about 9,131 patients will get a correct diagnosis, while the other 869 will not. The team should probably conclude that the test needs more refinement with respect to detecting the virus."
   ]
  },
  {
   "attachments": {},
   "cell_type": "markdown",
   "metadata": {},
   "source": [
    "Given the HIV results above\n",
    "\n",
    "+ Calculate P(T<sup>-</sup> | HIV<sup>c</sup>). Assign your answer to p_negative_given_non_hiv.\n",
    "+ Print p_negative_given_non_hiv.\n",
    "+ Interpret the result — does the value of P(T<sup>-</sup> | HIV<sup>c</sup>) suggest that the test needs more work? Or does it look like the test is reliable enough to use in hospitals? Write your thoughts using a multi-line string. This part of the exercise is not answer-checked, but we suggest a solution nonetheless."
   ]
  },
  {
   "cell_type": "code",
   "execution_count": 10,
   "metadata": {},
   "outputs": [
    {
     "name": "stdout",
     "output_type": "stream",
     "text": [
      "0.2\n"
     ]
    },
    {
     "data": {
      "text/plain": [
       "'\\nThe probability of testing negative given that a patient is not\\ninfected with HIV is 20%. This means that for every 10,000 healthy\\npatients, only about 2000 will get a correct diagnosis, while the\\nother 8000 will not. It looks like the test is almost completely\\ninefficient, and it could be dangerous to have it used in hospitals.\\n'"
      ]
     },
     "execution_count": 10,
     "metadata": {},
     "output_type": "execute_result"
    }
   ],
   "source": [
    "p_negative_given_non_hiv = 6/30\n",
    "print(p_negative_given_non_hiv)\n",
    "\n",
    "'''\n",
    "The probability of testing negative given that a patient is not\n",
    "infected with HIV is 20%. This means that for every 10,000 healthy\n",
    "patients, only about 2000 will get a correct diagnosis, while the\n",
    "other 8000 will not. It looks like the test is almost completely\n",
    "inefficient, and it could be dangerous to have it used in hospitals.\n",
    "'''"
   ]
  },
  {
   "attachments": {},
   "cell_type": "markdown",
   "metadata": {},
   "source": [
    "## Formula for Conditional Probability\n",
    "\n",
    "For any two events A and B, P(A|B) is:\n",
    "\n",
    "`P(A|B)`=$\\frac {P(A∩B)}{P(B)}$\n",
    "\n",
    "This formula is useful when we only know probabilities."
   ]
  },
  {
   "attachments": {},
   "cell_type": "markdown",
   "metadata": {},
   "source": [
    "## Task\n",
    "\n",
    "A company offering a browser-based task manager tool intends to do some targeted advertising based on people's browsers. The data they collected about their users is described in the table below:\n",
    "\n",
    "![browsers](img/cpm1_table2.png)"
   ]
  },
  {
   "attachments": {},
   "cell_type": "markdown",
   "metadata": {},
   "source": [
    "Find:\n",
    "\n",
    "+ `P(Premium | Chrome)` — the probability that a randomly chosen user has a premium subscription, provided their browser is Chrome. Assign your answer to p_premium_given_chrome.\n",
    "+ `P(Basic | Safari)` — the probability that a randomly chosen user has a basic subscription, provided their browser is Safari. Assign your answer to p_basic_given_safari.\n",
    "+ `P(Free | Firefox)`— the probability that a randomly chosen user has a free subscription, provided their browser is Firefox. Assign your answer to p_free_given_firefox.\n",
    "+ Between a Chrome user and a Safari user, who is more likely to have a premium subscription? If you think a Chrome user is the answer, then assign the string 'Chrome' to a variable named more_likely_premium, otherwise assign 'Safari'. To solve this exercise, you'll also need to calculate `P(Premium | Safari)`.\n"
   ]
  },
  {
   "cell_type": "code",
   "execution_count": 11,
   "metadata": {},
   "outputs": [],
   "source": [
    "p_premium_given_chrome = 158/2762\n",
    "p_basic_given_safari = 274/1288\n",
    "p_free_given_firefox = 2103/2285\n",
    "p_premium_given_safari = 120/1288\n",
    "more_likely_premium = 'Safari'"
   ]
  },
  {
   "attachments": {},
   "cell_type": "markdown",
   "metadata": {},
   "source": [
    "## An Important Difference"
   ]
  },
  {
   "attachments": {},
   "cell_type": "markdown",
   "metadata": {},
   "source": [
    "We have learned two important formulas:\n",
    "\n",
    "P(A|B)=$\\frac {card(A∩B)}{card(B)}$             (1)\n",
    "\n",
    "P(A|B)=$\\frac {P(A∩B)}{P(B)}$          (2)"
   ]
  },
  {
   "attachments": {},
   "cell_type": "markdown",
   "metadata": {},
   "source": [
    "One intuitive way to understand P(A|B) is \"if B occurs, then what's the probability that A occurs?\" This suggests that both events A and B occur. However, since P(A ∩ B) is the probability that both A and B occur, then what's the difference between P(A|B) and P(A ∩ B), if any?\n",
    "\n",
    "Let's take rolling a fair six-sided die, and try to find P(A|B) and P(A ∩ B), where:\n",
    "\n",
    "+ A is the event that the number is odd: A = {1, 3, 5}\n",
    "+ B is the event that the number is greater than 1: B = {2, 3, 4, 5, 6}\n",
    "\n",
    "Using formula (1) above, we see that P(A|B), the probability of getting an odd number given that we got a number greater than 1, is:"
   ]
  },
  {
   "attachments": {},
   "cell_type": "markdown",
   "metadata": {},
   "source": [
    "P(A|B)=$\\frac {card(A∩B)}{card(B)}$=$\\frac {card({3,5})}{card({2,3,4,5,6})}$=$\\frac {2}{5} $"
   ]
  },
  {
   "attachments": {},
   "cell_type": "markdown",
   "metadata": {},
   "source": [
    "P(A|B)=$\\frac {2}{5} $ and P(A∩B)=$\\frac {2}{6} $  , so P(A|B) and P(A ∩ B) must be different things. And they are different because P(A ∩ B) means finding the probability that both A and B occur, while P(A|B) means finding only the probability that A occurs (given that B occurs).\n",
    "\n",
    "With P(A ∩ B), we're trying to to find the probability of two events (A and B), while with P(A|B) we're only trying to find the probability of a single event, which is A.\n",
    "\n",
    "Looking at formula (2) above, we can also see a mathematical difference between P(A|B) and P(A ∩ B) — we see that P(A|B)≠P(A∩B)\n",
    ", but rather:\n",
    "\n",
    "P(A|B)=$\\frac {card(A∩B)}{card(B)}$\n",
    "\n",
    "P(A∩B)=P(A|B)⋅P(B)"
   ]
  },
  {
   "attachments": {},
   "cell_type": "markdown",
   "metadata": {},
   "source": [
    "\n",
    "+ P(A) means finding the probability of A\n",
    "+ P(A|B) means finding the conditional probability of A (given that B occurs)\n",
    "+ P(A ∩ B) means finding the probability that both A and B occur\n",
    "+ P(A ∪ B) means finding the probability that A occurs or B occurs (this doesn't exclude the situation where both A and B occur)\n"
   ]
  },
  {
   "attachments": {},
   "cell_type": "markdown",
   "metadata": {},
   "source": [
    "## Task\n",
    "\n",
    "The analytics team of a store randomly sampled 2,000 customers and looked at customer behavior with respect to buying laptops and wireless mouses. The results are summarized in the table below, where:\n",
    "\n",
    "+ \"L\" means the customer bought a laptop\n",
    "+ \"M\" means the customer bought a mouse\n",
    "+ \"LC\" means the customer didn't buy a laptop\n",
    "+ \"MC\" means the customer didn't buy a mouse\n",
    "\n",
    "![team](img/cpm2_viz1.png)"
   ]
  },
  {
   "attachments": {},
   "cell_type": "markdown",
   "metadata": {},
   "source": [
    "Find:\n",
    "\n",
    "+ P(M), the probability that a customer buys a mouse — assign your answer to p_m.\n",
    "+ P(M|L), the probability that a customer buys a mouse given that they bought a laptop — assign your answer to p_m_given_l.\n",
    "+ P(M ∩ L), the probability that a customer buys both a mouse and a laptop — assign your answer to p_m_and_l.\n",
    "+ P(M ∪ L), the probability that a customer buys a mouse or a laptop — assign your answer to p_m_or_l. Check the hint if you don't remember how to calculate this.\n"
   ]
  }
 ],
 "metadata": {
  "kernelspec": {
   "display_name": "Python 3",
   "language": "python",
   "name": "python3"
  },
  "language_info": {
   "codemirror_mode": {
    "name": "ipython",
    "version": 3
   },
   "file_extension": ".py",
   "mimetype": "text/x-python",
   "name": "python",
   "nbconvert_exporter": "python",
   "pygments_lexer": "ipython3",
   "version": "3.10.9 (tags/v3.10.9:1dd9be6, Dec  6 2022, 20:01:21) [MSC v.1934 64 bit (AMD64)]"
  },
  "orig_nbformat": 4,
  "vscode": {
   "interpreter": {
    "hash": "0e1f169f5711a90ff09b1ce155e8835a9bac5ac4c242468736f19be364069406"
   }
  }
 },
 "nbformat": 4,
 "nbformat_minor": 2
}
