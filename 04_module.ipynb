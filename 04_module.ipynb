{
 "cells": [
  {
   "cell_type": "markdown",
   "metadata": {},
   "source": [
    "## Permutations and Combinations"
   ]
  },
  {
   "attachments": {},
   "cell_type": "markdown",
   "metadata": {},
   "source": [
    "In this part we will learn techniques to answer questions like:\n",
    "\n",
    "\n",
    "+ What is the probability of cracking a 4-digit PIN code using the code 8362?\n",
    "+ What is the probability of cracking a 6-digit PIN code using the code 348821?\n",
    "+ What is the probability of winning the big prize in a state lottery if we use the numbers (3, 20, 37, 44, 45, 49)?"
   ]
  },
  {
   "attachments": {},
   "cell_type": "markdown",
   "metadata": {},
   "source": [
    "## The rule of product\n",
    "\n",
    "We begin with considering a composite experiment A1A2 made of two different experiments, which we denote by \"A1\" and \"A2\":\n",
    "\n",
    "+ A1: flipping a coin\n",
    "+ A2: throwing a six-sided die\n",
    "\n",
    "A1A2 means we flip a coin and throw a die and consider the outcomes of the two individual experiments together (the two individual experiments are flipping a coin and throwing a die). One of the possible outcomes of the composite experiment A1A2 is (H, 1), which means the coin lands heads up and the die shows a 1. There are 12 possible outcomes associated with A1A2:\n",
    "\n",
    "Ω={(H,1),(H,2),(H,3),(H,4),(H,5),(H,6),(T,1),(T,2),(T,3),(T,4),(T,5),(T,6)}\n",
    "\n",
    "Tree diagram \n",
    "\n",
    "<img src=\"img/pr1m4_tree_diagram_1.png\">"
   ]
  },
  {
   "attachments": {},
   "cell_type": "markdown",
   "metadata": {},
   "source": [
    "When we flip the coin, there are two possible outcomes: heads or tails. Each of the two outcomes can be followed by six other outcomes, depending how the six-sided die lands. If there are two outcomes, and each of these two have six other corresponding outcomes, we can use multiplication to find the total number of outcomes:\n",
    "\n",
    "Number of outcomes=2⋅6=12\n",
    "\n",
    "Generally, if we have an experiment E1 (like flipping a coin) with a outcomes, followed by an experiment E2 (like rolling a die) with b outcomes, then the total number of outcomes for the composite experiment E1E2 can be found by multiplying a with b:\n",
    "\n",
    "Number of outcomes=a⋅b\n",
    "\n",
    "The formula above is known as the rule of product (or the multiplication principle). "
   ]
  },
  {
   "attachments": {},
   "cell_type": "markdown",
   "metadata": {},
   "source": [
    "## Task\n",
    "\n",
    "Consider the composite experiment E1E2, where E1 is rolling a fair six-sided die once, and E2 is rolling the same die again. One of the outcomes of E1E2 could be (1, 6), which means we get a 1 for the first roll and a 6 for the second one.\n",
    "\n",
    "+ Use the rule of product to calculate the total number of outcomes. Assign your answer to n_outcomes.\n",
    "\n",
    "+ Use n_outcomes to calculate the probability of getting a (6,6). Assign your answer to p_six_six. Check the hint if you have difficulties calculating this.\n",
    "\n",
    "+ Use n_outcomes to calculate the probability of not getting a (5,5) and assign your answer to p_not_five_five.\n"
   ]
  },
  {
   "cell_type": "code",
   "execution_count": 1,
   "metadata": {},
   "outputs": [],
   "source": [
    "n_outcomes = 6*6\n",
    "\n",
    "p_six_six = 1/n_outcomes\n",
    "\n",
    "p_not_five_five = 1-1/n_outcomes"
   ]
  },
  {
   "attachments": {},
   "cell_type": "markdown",
   "metadata": {},
   "source": [
    "## another task\n",
    "\n",
    "We roll a fair six-sided die three times and then randomly draw a card from a standard 52-card deck. One of the outcomes is (6, 6, 6, ace of diamonds), which means getting three 6's in a row when we roll the die, followed by drawing an ace of diamonds from the deck.\n",
    "\n",
    "+ Use the extended rule of product to calculate the total number of outcomes. Assign your answer to total_outcomes.\n",
    "\n",
    "+ Use total_outcomes to calculate the probability of getting (6, 6, 6, ace of diamonds) — three sixes in a row followed by an ace of diamonds. Assign your answer to p_666_ace_diamonds.\n",
    "\n",
    "+ Use p_666_ace_diamonds to calculate the probability of getting anything but (6, 6, 6, ace of diamonds). Assign your answer to p_no_666_ace_diamonds.\n"
   ]
  },
  {
   "cell_type": "code",
   "execution_count": 2,
   "metadata": {},
   "outputs": [],
   "source": [
    "total_outcomes = 6*6*6*52\n",
    "\n",
    "p_666_ace_diamonds = 1/total_outcomes\n",
    "\n",
    "p_no_666_ace_diamonds = 1 - p_666_ace_diamonds"
   ]
  },
  {
   "attachments": {},
   "cell_type": "markdown",
   "metadata": {},
   "source": [
    "Let's say we're interested in finding the probability of cracking a 4-digit PIN code using the code 8362 (we chose 8362 randomly). To calculate the probability, we can use the formula:"
   ]
  },
  {
   "attachments": {},
   "cell_type": "markdown",
   "metadata": {},
   "source": [
    "p(E)= Number of successful outcomes/ total number of possible outcomes"
   ]
  },
  {
   "attachments": {},
   "cell_type": "markdown",
   "metadata": {},
   "source": [
    "The code 8362 is the only successful outcome, so the formula above becomes:"
   ]
  },
  {
   "attachments": {},
   "cell_type": "markdown",
   "metadata": {},
   "source": [
    "p(8362)= 1/total number of possible outcomes"
   ]
  },
  {
   "attachments": {},
   "cell_type": "markdown",
   "metadata": {},
   "source": [
    "To find the total number of possible outcomes, we need to find the total number of possible 4-digit PIN codes. One way to form a 4-digit code is to sample with replacement four times from the set {0, 1, 2, 3, 4, 5, 6, 7, 8, 9} — recall sampling with replacement means randomly extracting an element from a group, and then putting the element back in the group. The process of forming a 4-digit code can be broken down to four experiments:\n",
    "\n",
    "+ E1, which has 10 possible outcomes: {0, 1, 2, 3, 4, 5, 6, 7, 8, 9}\n",
    "+ E2, which has 10 possible outcomes: {0, 1, 2, 3, 4, 5, 6, 7, 8, 9}\n",
    "+ E3, which has 10 possible outcomes: {0, 1, 2, 3, 4, 5, 6, 7, 8, 9}\n",
    "+ E4, which has 10 possible outcomes: {0, 1, 2, 3, 4, 5, 6, 7, 8, 9}\n",
    "\n",
    "A 4-digit code can be thought of as the result of the composite experiment E1E2E3E4. For instance, the code 5391 means the experiment:\n",
    "\n",
    "+ E1 ended in a 5.\n",
    "+ E2 ended in a 3.\n",
    "+ E3 ended in a 9.\n",
    "+ E4 ended in a 1.\n",
    "\n",
    "Finding the total number of possible 4-digit codes is equivalent to finding the total number of outcomes for the composite experiment E1E2E3E4, for which we can use the extended rule of product:"
   ]
  }
 ],
 "metadata": {
  "kernelspec": {
   "display_name": "Python 3",
   "language": "python",
   "name": "python3"
  },
  "language_info": {
   "codemirror_mode": {
    "name": "ipython",
    "version": 3
   },
   "file_extension": ".py",
   "mimetype": "text/x-python",
   "name": "python",
   "nbconvert_exporter": "python",
   "pygments_lexer": "ipython3",
   "version": "3.10.6"
  },
  "orig_nbformat": 4,
  "vscode": {
   "interpreter": {
    "hash": "916dbcbb3f70747c44a77c7bcd40155683ae19c65e1c03b4aa3499c5328201f1"
   }
  }
 },
 "nbformat": 4,
 "nbformat_minor": 2
}
