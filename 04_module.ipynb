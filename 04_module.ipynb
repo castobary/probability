{
 "cells": [
  {
   "cell_type": "markdown",
   "metadata": {},
   "source": [
    "## Permutations and Combinations"
   ]
  },
  {
   "attachments": {},
   "cell_type": "markdown",
   "metadata": {},
   "source": [
    "In this part we will learn techniques to answer questions like:\n",
    "\n",
    "\n",
    "+ What is the probability of cracking a 4-digit PIN code using the code 8362?\n",
    "+ What is the probability of cracking a 6-digit PIN code using the code 348821?\n",
    "+ What is the probability of winning the big prize in a state lottery if we use the numbers (3, 20, 37, 44, 45, 49)?"
   ]
  },
  {
   "attachments": {},
   "cell_type": "markdown",
   "metadata": {},
   "source": [
    "## The rule of product\n",
    "\n",
    "We begin with considering a composite experiment A1A2 made of two different experiments, which we denote by \"A1\" and \"A2\":\n",
    "\n",
    "+ A1: flipping a coin\n",
    "+ A2: throwing a six-sided die\n",
    "\n",
    "A1A2 means we flip a coin and throw a die and consider the outcomes of the two individual experiments together (the two individual experiments are flipping a coin and throwing a die). One of the possible outcomes of the composite experiment A1A2 is (H, 1), which means the coin lands heads up and the die shows a 1. There are 12 possible outcomes associated with A1A2:\n",
    "\n",
    "Ω={(H,1),(H,2),(H,3),(H,4),(H,5),(H,6),(T,1),(T,2),(T,3),(T,4),(T,5),(T,6)}\n",
    "\n",
    "Tree diagram \n",
    "\n",
    "<img src=\"img/pr1m4_tree_diagram_1.png\">"
   ]
  },
  {
   "attachments": {},
   "cell_type": "markdown",
   "metadata": {},
   "source": [
    "When we flip the coin, there are two possible outcomes: heads or tails. Each of the two outcomes can be followed by six other outcomes, depending how the six-sided die lands. If there are two outcomes, and each of these two have six other corresponding outcomes, we can use multiplication to find the total number of outcomes:\n",
    "\n",
    "Number of outcomes=2⋅6=12\n",
    "\n",
    "Generally, if we have an experiment E1 (like flipping a coin) with a outcomes, followed by an experiment E2 (like rolling a die) with b outcomes, then the total number of outcomes for the composite experiment E1E2 can be found by multiplying a with b:\n",
    "\n",
    "Number of outcomes=a⋅b\n",
    "\n",
    "The formula above is known as the rule of product (or the multiplication principle). "
   ]
  },
  {
   "attachments": {},
   "cell_type": "markdown",
   "metadata": {},
   "source": [
    "## Task\n",
    "\n",
    "Consider the composite experiment E1E2, where E1 is rolling a fair six-sided die once, and E2 is rolling the same die again. One of the outcomes of E1E2 could be (1, 6), which means we get a 1 for the first roll and a 6 for the second one.\n",
    "\n",
    "+ Use the rule of product to calculate the total number of outcomes. Assign your answer to n_outcomes.\n",
    "\n",
    "+ Use n_outcomes to calculate the probability of getting a (6,6). Assign your answer to p_six_six. Check the hint if you have difficulties calculating this.\n",
    "\n",
    "+ Use n_outcomes to calculate the probability of not getting a (5,5) and assign your answer to p_not_five_five.\n"
   ]
  },
  {
   "cell_type": "code",
   "execution_count": 1,
   "metadata": {},
   "outputs": [],
   "source": [
    "n_outcomes = 6*6\n",
    "\n",
    "p_six_six = 1/n_outcomes\n",
    "\n",
    "p_not_five_five = 1-1/n_outcomes"
   ]
  },
  {
   "attachments": {},
   "cell_type": "markdown",
   "metadata": {},
   "source": [
    "## another task\n",
    "\n",
    "We roll a fair six-sided die three times and then randomly draw a card from a standard 52-card deck. One of the outcomes is (6, 6, 6, ace of diamonds), which means getting three 6's in a row when we roll the die, followed by drawing an ace of diamonds from the deck.\n",
    "\n",
    "+ Use the extended rule of product to calculate the total number of outcomes. Assign your answer to total_outcomes.\n",
    "\n",
    "+ Use total_outcomes to calculate the probability of getting (6, 6, 6, ace of diamonds) — three sixes in a row followed by an ace of diamonds. Assign your answer to p_666_ace_diamonds.\n",
    "\n",
    "+ Use p_666_ace_diamonds to calculate the probability of getting anything but (6, 6, 6, ace of diamonds). Assign your answer to p_no_666_ace_diamonds.\n"
   ]
  },
  {
   "cell_type": "code",
   "execution_count": 2,
   "metadata": {},
   "outputs": [],
   "source": [
    "total_outcomes = 6*6*6*52\n",
    "\n",
    "p_666_ace_diamonds = 1/total_outcomes\n",
    "\n",
    "p_no_666_ace_diamonds = 1 - p_666_ace_diamonds"
   ]
  },
  {
   "attachments": {},
   "cell_type": "markdown",
   "metadata": {},
   "source": [
    "Let's say we're interested in finding the probability of cracking a 4-digit PIN code using the code 8362 (we chose 8362 randomly). To calculate the probability, we can use the formula:"
   ]
  },
  {
   "attachments": {},
   "cell_type": "markdown",
   "metadata": {},
   "source": [
    "p(E)= Number of successful outcomes/ total number of possible outcomes"
   ]
  },
  {
   "attachments": {},
   "cell_type": "markdown",
   "metadata": {},
   "source": [
    "The code 8362 is the only successful outcome, so the formula above becomes:"
   ]
  },
  {
   "attachments": {},
   "cell_type": "markdown",
   "metadata": {},
   "source": [
    "p(8362)= 1/total number of possible outcomes"
   ]
  },
  {
   "attachments": {},
   "cell_type": "markdown",
   "metadata": {},
   "source": [
    "To find the total number of possible outcomes, we need to find the total number of possible 4-digit PIN codes. One way to form a 4-digit code is to sample with replacement four times from the set {0, 1, 2, 3, 4, 5, 6, 7, 8, 9} — recall sampling with replacement means randomly extracting an element from a group, and then putting the element back in the group. The process of forming a 4-digit code can be broken down to four experiments:\n",
    "\n",
    "+ E1, which has 10 possible outcomes: {0, 1, 2, 3, 4, 5, 6, 7, 8, 9}\n",
    "+ E2, which has 10 possible outcomes: {0, 1, 2, 3, 4, 5, 6, 7, 8, 9}\n",
    "+ E3, which has 10 possible outcomes: {0, 1, 2, 3, 4, 5, 6, 7, 8, 9}\n",
    "+ E4, which has 10 possible outcomes: {0, 1, 2, 3, 4, 5, 6, 7, 8, 9}\n",
    "\n",
    "A 4-digit code can be thought of as the result of the composite experiment E1E2E3E4. For instance, the code 5391 means the experiment:\n",
    "\n",
    "+ E1 ended in a 5.\n",
    "+ E2 ended in a 3.\n",
    "+ E3 ended in a 9.\n",
    "+ E4 ended in a 1.\n",
    "\n",
    "Finding the total number of possible 4-digit codes is equivalent to finding the total number of outcomes for the composite experiment E1E2E3E4, for which we can use the extended rule of product:"
   ]
  },
  {
   "attachments": {},
   "cell_type": "markdown",
   "metadata": {},
   "source": [
    "`Number of outcomes=10⋅10⋅10⋅10=10,000`\n",
    "\n",
    "We conclude we have 10,000 possible 4-digit PIN codes. This makes some intuitive sense, since 4-digit PIN codes vary between 0000 and 9999 (this is like counting from 0 to 9999: 0000, 0001, 0002, ..., 9998, 9999).\n",
    "\n",
    "In the following exercise, we're going to find the probability of cracking a 4-digit PIN code using the code 8362."
   ]
  },
  {
   "attachments": {},
   "cell_type": "markdown",
   "metadata": {},
   "source": [
    "## Task\n",
    "\n",
    "1. Find the probability of cracking a 4-digit PIN code using the code 8362. Assign your answer to p_crack_4.\n",
    "2. Find the probability of cracking a 6-digit PIN code using the code 348821. Assign your answer to p_crack_6"
   ]
  },
  {
   "cell_type": "code",
   "execution_count": 3,
   "metadata": {},
   "outputs": [],
   "source": [
    "p_crack_4 = 1/10**4\n",
    "\n",
    "p_crack_6 = 1/10**6"
   ]
  },
  {
   "attachments": {},
   "cell_type": "markdown",
   "metadata": {},
   "source": [
    "## Permutations\n",
    "\n",
    " Certain arrangement where the order of the individual elements matters is called a __permutation__. For instance, there are 10,000 possible permutations for a 4-digit PIN code (in other words, there are 10,000 digit arrangements where the order of the digits matters).\n",
    "\n",
    "Let's now turn our attention to another example, where we're interested in finding the total number of possible permutations for the numbers {5, 6, 7} — one possible permutation would be 567, another 657, and so on.\n",
    "\n",
    "However, this time we want to form the permutations by sampling without replacement. For instance, if we sample once without replacement from the set {5, 6, 7} and get a 5, we don't put the 5 back in the set, and only {6, 7} remains for the second round of sampling.\n",
    "\n",
    "To form a permutation like 567 or 657, we need to sample three times from the set {5, 6, 7}. Since we sample three times, we can break down the entire process into three experiments:\n",
    "\n",
    "+ E1, which has three possible outcomes: {5, 6, 7}\n",
    "+ E2, which has two possible outcomes left (because we sample without replacement we leave out the element we got at E1; if we get a 6 at E1, only {5, 7} is left for E2)\n",
    "+ E3, which has one possible outcome left\n",
    "\n",
    "Using the extended rule of product, we see we have a total of six outcomes for the composite experiment E1E2E3:\n",
    "\n",
    "Number of outcomes=3⋅2⋅1=6\n",
    "\n",
    "This makes sense, since these are all the possible permutations (arrangements) of {5, 6, 7} when we sample without replacement: 567, 576, 657, 675, 756, 765."
   ]
  },
  {
   "attachments": {},
   "cell_type": "markdown",
   "metadata": {},
   "source": [
    "ore generally, if there are n outcomes for the first experiment, (n-1) outcomes for the second, (n-2) for the third, ..., and only one outcome for the last experiment, then we can find the number of permutations using the formula:\n",
    "\n",
    "Permutations=n⋅(n−1)⋅(n−2)⋅…⋅2⋅1\n",
    "\n",
    "In mathematics, the expression n ⋅ (n - 1) ⋅ (n - 2) ⋅ ... ⋅ 2 ⋅ 1 is often abbreviated as n!. For instance, if n = 5, then:\n",
    "\n",
    "`n!=5!=5⋅4⋅3⋅2⋅1`\n",
    "\n",
    "The expression n! is called a factorial and is read as \"n factorial\". For 5!, we read \"five factorial\".\n",
    "\n",
    "For our case above with finding the total number of permutations for {5, 6, 7}, n = 3. To find the total number of permutations we use:\n",
    "\n",
    "`n!=3!=3⋅2⋅1=6`\n",
    "\n",
    "To summarize, when we sample without replacement, the number of permutations is given by the formula:\n",
    "\n",
    "`Permutations=n!`"
   ]
  },
  {
   "attachments": {},
   "cell_type": "markdown",
   "metadata": {},
   "source": [
    "### Task\n",
    "\n",
    "\n",
    "\n",
    "1. Write a function named `factorial()` which takes as input a number n and computes the factorial of that number n. There's more than one way to code this function, so we'll leave this exercise open — check the hint section if you get stuck.\n",
    "\n",
    "+ Use the `factorial()` function to find the total number of permutations (arrangements where order matters) for the letters \"a\", \"b\", \"j\", \"k\", \"x\", \"y\" (the letters cannot be repeated — this is equivalent to sampling without replacement from the set {\"a\", \"b\", \"j\", \"k\", \"x\", \"y\"}. Assign your answer to permutations_1.\n",
    "\n",
    "+ Use the `factorial()` function to find the total number of permutations for the 52 cards of a standard 52-card deck. Assign your answer to permutations_2."
   ]
  },
  {
   "cell_type": "code",
   "execution_count": 6,
   "metadata": {},
   "outputs": [],
   "source": [
    "# option 1 using recursion\n",
    "def factorial(n):\n",
    "   if n == 1:\n",
    "       return n\n",
    "   else:\n",
    "       return n*factorial(n-1)"
   ]
  },
  {
   "cell_type": "code",
   "execution_count": 8,
   "metadata": {},
   "outputs": [
    {
     "data": {
      "text/plain": [
       "720"
      ]
     },
     "execution_count": 8,
     "metadata": {},
     "output_type": "execute_result"
    }
   ],
   "source": [
    "factorial(6)"
   ]
  },
  {
   "cell_type": "code",
   "execution_count": 9,
   "metadata": {},
   "outputs": [],
   "source": [
    "# option 2 using loops\n",
    "\n",
    "def factorial(n):\n",
    "    final_product = 1\n",
    "    for i in range(n, 0, -1):\n",
    "        final_product *= i\n",
    "    return final_product"
   ]
  },
  {
   "cell_type": "code",
   "execution_count": 10,
   "metadata": {},
   "outputs": [
    {
     "data": {
      "text/plain": [
       "720"
      ]
     },
     "execution_count": 10,
     "metadata": {},
     "output_type": "execute_result"
    }
   ],
   "source": [
    "factorial(6)"
   ]
  },
  {
   "cell_type": "code",
   "execution_count": 11,
   "metadata": {},
   "outputs": [],
   "source": [
    "permutations_1 = factorial(6) # because there are 6 letters\n",
    "permutations_2 = factorial(52)"
   ]
  },
  {
   "attachments": {},
   "cell_type": "markdown",
   "metadata": {},
   "source": [
    "## Calculating permutations with conditions\n",
    "\n",
    "In the last exercise, we calculated the number of permutations for the 52 cards of a standard 52-card deck. In practice, however, we're usually interested in finding the number of permutations for a limited number of cards.\n",
    "\n",
    "For instance, in Texas hold 'em, which is a variation of poker, players are interested in having a winning 5-card poker hand. To find the total number of possible permutations for a 5-card poker hand, we can start by considering we're sampling without replacement five times from a standard 52-card deck:\n",
    "\n",
    "+ E1 — we have 52 cards in the deck, so 52 outcomes are possible\n",
    "+  E2 — we have 51 cards left in the deck, so 51 outcomes are possible (because we sample without replacement, we don't put back in the deck the card we got at E1)\n",
    "+ E3 — we have 50 cards left in the deck, so 50 outcomes are possible\n",
    "+ E4 — we have 49 cards left in the deck, so 49 outcomes are possible\n",
    "+ E5 — we have 48 cards left in the deck, so 48 outcomes are possible\n",
    "\n",
    "We can use the extended rule of product to calculate the number of permutations for a 5-card poker hand:\n",
    "\n",
    "Permutations=52⋅51⋅50⋅49⋅48=311,875,200\n",
    "\n",
    "Note that we can't use the Permutations = n! formula to calculate the number of permutations for a 5-card poker hand because in our case n = 52, and that'd lead us to a wrong result:\n",
    "\n",
    "Permutations=52⋅51⋅50⋅…⋅3⋅2⋅1\n",
    "\n",
    "More generally, when we have a group of n objects, but we're taking only k objects, the number of permutations (which we abbreviate as \"P\") is:\n",
    "\n",
    "nPk=n⋅(n−1)⋅(n−2)⋅…⋅(n−k+1)\n",
    "\n",
    "### Task\n",
    "\n",
    "Using the formula we just learned, calculate:\n",
    "\n",
    "+ The number of permutations for 3-card hand when we're drawing without replacement from a 52-card standard deck. Assign your answer to perm_3_52.\n",
    "+ The number of permutations for a 4-card hand when we're drawing without replacement from a 20-card deck. Assign your answer to perm_4_20.\n",
    "+ The number of permutations for 4-card hand when we're drawing without replacement from a 27-card deck. Assign your answer to perm_4_27.\n"
   ]
  },
  {
   "cell_type": "code",
   "execution_count": 15,
   "metadata": {},
   "outputs": [],
   "source": [
    "perm_3_52 = 52 * 51 * 50\n",
    "perm_4_20 = 20 * 19 * 18 * 17\n",
    "perm_4_27 = 27 * 26 * 25 * 24"
   ]
  },
  {
   "attachments": {},
   "cell_type": "markdown",
   "metadata": {},
   "source": [
    "\n",
    "#### Creating a formula to do the above operation \n",
    "1. Write a function named permutation() which takes in two inputs (n and k) and outputs the number of permutations when we're taking only k objects from a group of n objects. To simplify your work, use the factorial() function we wrote on a previous screen.\n",
    "\n",
    "2. A password manager software generates 16-character passwords from a list of 127 characters (the list contains numbers, letters, or other symbols). Assume the sampling from the list is done randomly and without replacement, and find the probability of cracking a password generated by this software if we're using the password \"@*AmgJ(UL3Yl726x\", which has 16 characters. Assign your answer to p_crack_pass.\n"
   ]
  },
  {
   "cell_type": "code",
   "execution_count": 16,
   "metadata": {},
   "outputs": [],
   "source": [
    "def permutation(n, k):\n",
    "    numerator = factorial(n)\n",
    "    denominator = factorial(n-k)\n",
    "    return numerator/denominator"
   ]
  },
  {
   "cell_type": "code",
   "execution_count": 17,
   "metadata": {},
   "outputs": [],
   "source": [
    "events = permutation(127,16)\n",
    "p_crack_pass = 1/events"
   ]
  },
  {
   "attachments": {},
   "cell_type": "markdown",
   "metadata": {},
   "source": [
    "## Combinations\n",
    "\n",
    "More generally, if the order of the elements in an arrangement doesn't matter, the arrangement is called a __combination__. Combinations are the opposite of permutations; the order of the elements does not matter for combinations, whereas the order does matter for permutations."
   ]
  },
  {
   "attachments": {},
   "cell_type": "markdown",
   "metadata": {},
   "source": [
    "${n}_C^{k}$= $\\binom{n}{k}$ = $\\frac{n!}{k!(n-k)!}$"
   ]
  },
  {
   "attachments": {},
   "cell_type": "markdown",
   "metadata": {},
   "source": [
    "## Taks\n",
    "\n",
    "+ Use the factorial() and permutation() functions to calculate the number of unique 5-card arrangements when drawing without replacement from a standard 52-card deck. Assign your answer to a variable named c.\n",
    "\n",
    "+ Calculate the probability of getting a 5-card hand with four aces and a seven of diamonds (assume we're drawing randomly and without replacement from the deck). Assign your answer to p_aces_7.\n",
    "\n",
    "+ For a state lottery, six numbers are drawn randomly and without replacement from a set containing numbers from 1 to 49. Using the factorial() and the permutation() functions, find the total number of unique 6-number arrangements that could result. Assign your answer to c_lottery.\n",
    "\n",
    "+ Calculate the probability of winning the big prize for this state lottery provided you use the numbers (3, 20, 37, 44, 45, 49) — the big prize means the numbers match exactly those resulted from the official drawing.\n",
    "    + Assign your answer to p_big_prize.\n",
    "    + Print p_big_prize to see what are the chances of winning the big prize and think whether you'd recommend spending money on lottery to a close friend.\n"
   ]
  },
  {
   "cell_type": "code",
   "execution_count": 18,
   "metadata": {},
   "outputs": [],
   "source": [
    "c=permutation(52,5)/factorial(5)"
   ]
  },
  {
   "cell_type": "code",
   "execution_count": 19,
   "metadata": {},
   "outputs": [],
   "source": [
    "p_aces_7 = 1/c"
   ]
  },
  {
   "cell_type": "code",
   "execution_count": 20,
   "metadata": {},
   "outputs": [],
   "source": [
    "c_lottery = permutation(49,6)/factorial(6)"
   ]
  },
  {
   "cell_type": "code",
   "execution_count": 21,
   "metadata": {},
   "outputs": [],
   "source": [
    "b_big_prize = 1/c_lottery"
   ]
  },
  {
   "attachments": {},
   "cell_type": "markdown",
   "metadata": {},
   "source": [
    "## Another Task\n",
    "\n",
    "1. Write a function named `combinations()` which takes in two inputs (n and k) and outputs the number of combinations when we're taking only k objects from a group of n objects. To simplify your work, use the factorial() function we wrote on a previous screen.\n",
    "\n",
    "2. A small company is interested in running an A/B test and is about to select a group of 18 customers out of a total of 34 customers. Find the number of unique ways in which 18 customers can be selected from a group of 34 and assign your result to c_18.\n",
    "\n",
    "3. One of the possible outcomes is group Y, which is a group formed by 18 customers. Assume all the outcomes have equal chances of occurring and calculate the probability of getting a group other than group Y. Assign your answer to p_non_Y.\n"
   ]
  },
  {
   "cell_type": "code",
   "execution_count": 22,
   "metadata": {},
   "outputs": [],
   "source": [
    "def combinations(n, k):\n",
    "    numerator = factorial(n)\n",
    "    denominator = factorial(k) * factorial(n-k)\n",
    "    return numerator/denominator\n",
    "\n",
    "c_18 = combinations(34, 18)\n",
    "\n",
    "p_Y = 1/c_18\n",
    "p_non_Y = 1 - p_Y"
   ]
  }
 ],
 "metadata": {
  "kernelspec": {
   "display_name": "Python 3",
   "language": "python",
   "name": "python3"
  },
  "language_info": {
   "codemirror_mode": {
    "name": "ipython",
    "version": 3
   },
   "file_extension": ".py",
   "mimetype": "text/x-python",
   "name": "python",
   "nbconvert_exporter": "python",
   "pygments_lexer": "ipython3",
   "version": "3.10.6"
  },
  "orig_nbformat": 4,
  "vscode": {
   "interpreter": {
    "hash": "916dbcbb3f70747c44a77c7bcd40155683ae19c65e1c03b4aa3499c5328201f1"
   }
  }
 },
 "nbformat": 4,
 "nbformat_minor": 2
}
