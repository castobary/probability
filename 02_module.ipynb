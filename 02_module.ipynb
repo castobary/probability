{
 "cells": [
  {
   "cell_type": "markdown",
   "metadata": {},
   "source": [
    "## Probability Rules"
   ]
  },
  {
   "attachments": {},
   "cell_type": "markdown",
   "metadata": {},
   "source": [
    "### Sample Means\n",
    "\n",
    "In probability theory, the outcomes of a random experiment are usually represented as a set. For example, this is how we can represent the outcomes of a die roll as a set:\n",
    "\n",
    "Outcomes={1,2,3,4,5,6}\n",
    "\n",
    "A set is a collection of distinct objects, which means each outcome must occur only once in a set:\n",
    "\n",
    "+ {Heads, Tails} is an example of a valid set because all the elements are distinct.\n",
    "+ {Heads, Heads} is not a proper set because two elements are identical.\n",
    "\n",
    "In probability theory, the set of all possible outcomes is called a sample space. A sample space is often denoted by the capital Greek letter Ω (read \"omega\"). This is how we represent the sample space of a die roll:\n",
    "\n",
    "Ω={1,2,3,4,5,6}"
   ]
  },
  {
   "attachments": {},
   "cell_type": "markdown",
   "metadata": {},
   "source": [
    "### Task\n",
    "\n",
    "We toss a normal coin two times. Find the sample space of this experiment and assign it to the list coin_toss_omega.\n",
    "\n",
    "+ One of the outcomes is heads first, tails second. Abbreviate heads as H, tails as T, and assign the string 'HT' (heads first, tails second) to the list coin_toss_omega. Repeat this pattern for the other outcomes.\n"
   ]
  },
  {
   "cell_type": "code",
   "execution_count": 1,
   "metadata": {},
   "outputs": [],
   "source": [
    "coin_toss_omega = ['HH', 'HT', 'TT', 'TH']"
   ]
  },
  {
   "attachments": {},
   "cell_type": "markdown",
   "metadata": {},
   "source": [
    "### Task\n",
    "\n",
    "Use the table below for when two die are rolled together:\n",
    "\n",
    "![Two die](img/pr1m2_sums.png)"
   ]
  },
  {
   "attachments": {},
   "cell_type": "markdown",
   "metadata": {},
   "source": [
    "Use the table above to find the probability of the following events:\n",
    "\n",
    "1. The sum of the two rolls is 6. Assign the probability to p_sum_6.\n",
    "2. The sum of the two rolls is lower than 15. Assign the probability to p_lower_15.\n",
    "3. The sum of the two rolls is greater than 13. Assign the probability to p_greater_13.\n"
   ]
  },
  {
   "cell_type": "code",
   "execution_count": 2,
   "metadata": {},
   "outputs": [],
   "source": [
    "p_sum_6 = 5/36\n",
    "p_lower_15 = 36/36\n",
    "p_greater_13 = 0/36"
   ]
  },
  {
   "attachments": {},
   "cell_type": "markdown",
   "metadata": {},
   "source": [
    "### Impossible Events\n",
    "\n",
    "![Impossible](img/pr1m2_range.png)"
   ]
  },
  {
   "attachments": {},
   "cell_type": "markdown",
   "metadata": {},
   "source": [
    "## Task\n",
    "\n",
    "Use the previous table, find for the same experiment the probability of the following events:\n",
    "\n",
    "+ The sum is either 2 or 4. Assign the probability as a proportion to p_2_or_4.\n",
    "+ The sum is either 12 or 13. Assign the probability as a proportion to p_12_or_13.\n"
   ]
  },
  {
   "cell_type": "code",
   "execution_count": 3,
   "metadata": {},
   "outputs": [],
   "source": [
    "p_2_or_4 = 4/36\n",
    "p_12_or_13 = 1/36"
   ]
  },
  {
   "attachments": {},
   "cell_type": "markdown",
   "metadata": {},
   "source": [
    "### Addition Rule\n",
    "\n",
    "If A and B\n",
    "\n",
    "are two events in a probability experiment, then the probability that either one of the events will occur is:\n",
    "\n",
    "P(A or B)=P(A)+P(B)−P(A and B)\n",
    "\n",
    "If A and B are two mutually exclusive events , P(A∩B)=0 . Then the probability that either one of the events will occur is: P(A or B)=P(A)+P(B)\n",
    "\n",
    "Using the addition rule, find the probability of the following events:\n",
    "\n",
    "+ The sum is either 5 or 9 — assign your answer to p_5_or_9.\n",
    "+ The sum is either even or less than 2 — assign your answer to p_even_or_less_2.\n",
    "+ The sum is either 4 or a multiple of 3 — assign your answer to p_4_or_3_multiple. Check the hint if you don't remember what a multiple is.\n"
   ]
  },
  {
   "attachments": {},
   "cell_type": "markdown",
   "metadata": {},
   "source": [
    "## Task\n",
    "Using the addition rule, find the probability of the following events:\n",
    "\n",
    "+ The sum is either 5 or 9 — assign your answer to p_5_or_9.\n",
    "+ The sum is either even or less than 2 — assign your answer to p_even_or_less_2.\n",
    "+ The sum is either 4 or a multiple of 3 — assign your answer to p_4_or_3_multiple. Check the hint if you don't remember what a multiple is.\n"
   ]
  }
 ],
 "metadata": {
  "kernelspec": {
   "display_name": "base",
   "language": "python",
   "name": "python3"
  },
  "language_info": {
   "codemirror_mode": {
    "name": "ipython",
    "version": 3
   },
   "file_extension": ".py",
   "mimetype": "text/x-python",
   "name": "python",
   "nbconvert_exporter": "python",
   "pygments_lexer": "ipython3",
   "version": "3.9.12"
  },
  "orig_nbformat": 4,
  "vscode": {
   "interpreter": {
    "hash": "d0028ce20b428eb90286e675cfc9d586ae702ba0463c3d3b035a87d9639116bc"
   }
  }
 },
 "nbformat": 4,
 "nbformat_minor": 2
}
