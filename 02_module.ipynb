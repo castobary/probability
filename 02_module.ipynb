{
 "cells": [
  {
   "cell_type": "markdown",
   "metadata": {},
   "source": [
    "## Probability Rules"
   ]
  },
  {
   "attachments": {},
   "cell_type": "markdown",
   "metadata": {},
   "source": [
    "### Sample Means\n",
    "\n",
    "In probability theory, the outcomes of a random experiment are usually represented as a set. For example, this is how we can represent the outcomes of a die roll as a set:\n",
    "\n",
    "Outcomes={1,2,3,4,5,6}\n",
    "\n",
    "A set is a collection of distinct objects, which means each outcome must occur only once in a set:\n",
    "\n",
    "+ {Heads, Tails} is an example of a valid set because all the elements are distinct.\n",
    "+ {Heads, Heads} is not a proper set because two elements are identical.\n",
    "\n",
    "In probability theory, the set of all possible outcomes is called a sample space. A sample space is often denoted by the capital Greek letter Ω (read \"omega\"). This is how we represent the sample space of a die roll:\n",
    "\n",
    "Ω={1,2,3,4,5,6}"
   ]
  },
  {
   "attachments": {},
   "cell_type": "markdown",
   "metadata": {},
   "source": [
    "### Task\n",
    "\n",
    "We toss a normal coin two times. Find the sample space of this experiment and assign it to the list coin_toss_omega.\n",
    "\n",
    "+ One of the outcomes is heads first, tails second. Abbreviate heads as H, tails as T, and assign the string 'HT' (heads first, tails second) to the list coin_toss_omega. Repeat this pattern for the other outcomes.\n"
   ]
  },
  {
   "cell_type": "code",
   "execution_count": 1,
   "metadata": {},
   "outputs": [],
   "source": [
    "coin_toss_omega = ['HH', 'HT', 'TT', 'TH']"
   ]
  },
  {
   "attachments": {},
   "cell_type": "markdown",
   "metadata": {},
   "source": [
    "### Task\n",
    "\n",
    "Use the table below for when two die are rolled together:\n",
    "\n",
    "![Two die](img/pr1m2_sums.png)"
   ]
  },
  {
   "attachments": {},
   "cell_type": "markdown",
   "metadata": {},
   "source": [
    "Use the table above to find the probability of the following events:\n",
    "\n",
    "1. The sum of the two rolls is 6. Assign the probability to p_sum_6.\n",
    "2. The sum of the two rolls is lower than 15. Assign the probability to p_lower_15.\n",
    "3. The sum of the two rolls is greater than 13. Assign the probability to p_greater_13.\n"
   ]
  },
  {
   "cell_type": "code",
   "execution_count": 2,
   "metadata": {},
   "outputs": [],
   "source": [
    "p_sum_6 = 5/36\n",
    "p_lower_15 = 36/36\n",
    "p_greater_13 = 0/36"
   ]
  },
  {
   "attachments": {},
   "cell_type": "markdown",
   "metadata": {},
   "source": [
    "### Impossible Events\n",
    "\n",
    "![Impossible](img/pr1m2_range.png)"
   ]
  },
  {
   "attachments": {},
   "cell_type": "markdown",
   "metadata": {},
   "source": [
    "## Task\n",
    "\n",
    "Use the previous table, find for the same experiment the probability of the following events:\n",
    "\n",
    "+ The sum is either 2 or 4. Assign the probability as a proportion to p_2_or_4.\n",
    "+ The sum is either 12 or 13. Assign the probability as a proportion to p_12_or_13.\n"
   ]
  },
  {
   "cell_type": "code",
   "execution_count": 3,
   "metadata": {},
   "outputs": [],
   "source": [
    "p_2_or_4 = 4/36\n",
    "p_12_or_13 = 1/36"
   ]
  },
  {
   "attachments": {},
   "cell_type": "markdown",
   "metadata": {},
   "source": [
    "### Addition Rule\n",
    "\n",
    "If A and B\n",
    "\n",
    "are two events in a probability experiment, then the probability that either one of the events will occur is:\n",
    "\n",
    "P(A or B)=P(A)+P(B)−P(A and B)\n",
    "\n",
    "If A and B are two mutually exclusive events , P(A∩B)=0 . Then the probability that either one of the events will occur is: P(A or B)=P(A)+P(B)\n",
    "\n",
    "Using the addition rule, find the probability of the following events:\n",
    "\n",
    "+ The sum is either 5 or 9 — assign your answer to p_5_or_9.\n",
    "+ The sum is either even or less than 2 — assign your answer to p_even_or_less_2.\n",
    "+ The sum is either 4 or a multiple of 3 — assign your answer to p_4_or_3_multiple. Check the hint if you don't remember what a multiple is.\n"
   ]
  },
  {
   "attachments": {},
   "cell_type": "markdown",
   "metadata": {},
   "source": [
    "## Task\n",
    "Using the addition rule, find the probability of the following events:\n",
    "\n",
    "+ The sum is either 5 or 9 — assign your answer to p_5_or_9.\n",
    "+ The sum is either even or less than 2 — assign your answer to p_even_or_less_2.\n",
    "+ The sum is either 4 or a multiple of 3 — assign your answer to p_4_or_3_multiple. Check the hint if you don't remember what a multiple is.\n"
   ]
  },
  {
   "cell_type": "code",
   "execution_count": 4,
   "metadata": {},
   "outputs": [],
   "source": [
    "p_5_or_9 =8/36\n",
    "p_even_or_less_2 = 18/36\n",
    "p_4_or_3_multiple =15/36"
   ]
  },
  {
   "attachments": {},
   "cell_type": "markdown",
   "metadata": {},
   "source": [
    "## Task\n",
    "\n",
    "\n",
    " An online betting company offers customers the possibility of betting on a variety of games and events (football, tennis, hockey, horse races, car races, etc.). Based on historical data, the company knows the empirical probabilities of the following events:\n",
    "    \n",
    "+ Event F (a new customer's first bet is on football) — the probability is 0.26.\n",
    "+ Event T (a new customer's first bet is on tennis) — the probability is 0.11.\n",
    "+  Event \"T and F\" (a new customer's first bet is on both football and tennis) — the probability is 0.03.\n",
    "\n",
    "Find the probability that a new customer's first bet is either on football or tennis. Assign your answer to p_f_or_t. You can't use theoretical probability formula to solve this, so you'll need to make use of the addition rule."
   ]
  },
  {
   "cell_type": "code",
   "execution_count": 5,
   "metadata": {},
   "outputs": [],
   "source": [
    "p_f_or_t = (0.26 +0.11) - 0.03"
   ]
  },
  {
   "attachments": {},
   "cell_type": "markdown",
   "metadata": {},
   "source": [
    "### Mutually Exclusive Events\n",
    "\n",
    "![mee](img/pr1m2_event_abcd.png)"
   ]
  },
  {
   "attachments": {},
   "cell_type": "markdown",
   "metadata": {},
   "source": [
    "Events that don't intersect are called mutually exclusive — events A and B are mutually exclusive. If two events are mutually exclusive, it means they can't happen both at the same time — if one of the events happens, the other cannot possibly happen and vice-versa. Examples of mutually exclusive events include:\n",
    "\n",
    "+ Getting a 5 (event one) and getting a 3 (event two) when we roll a regular six-sided die — it's impossible to get both a 5 and 3.\n",
    "+ A coin lands on heads (event one) and tails (event two) — it's impossible for a coin to land on both heads and tails.\n",
    "\n",
    "Events that intersect are called mutually non-exclusive — events C and D on the Venn diagram above are mutually non-exclusive. Mutually non-exclusive events can happen at the same time, and examples include:\n",
    "\n",
    "+ Getting a number greater than 2 (event one) and getting an odd number (event two) when we roll a regular six-sided die — we could get a 5, which is both greater than 2 (event one) and odd (event two).\n",
    "+ A customer buys a red shirt (event one) and a blue shirt (event two) — the customer can buy both a red shirt (event one) and a blue shirt (event two).\n"
   ]
  },
  {
   "attachments": {},
   "cell_type": "markdown",
   "metadata": {},
   "source": [
    "## Task\n",
    "\n",
    "+ Based on historical data, the company knows the empirical probabilities of the following events:\n",
    "  \n",
    "  + Event H (a new customer's first bet is on hockey) — the probability is 0.08.\n",
    "  + Event C (a new customer's first bet is on car races) — the probability is 0.11.\n",
    "  + Event \"H or C\" (a new customer's first bet is either on hockey or car races) — the probability is 0.17.\n",
    "\n",
    "+ Find the probability that a new customer's first bet is on both hockey and car races. Assign your answer to p_h_and_c. Check the hint if you get stuck."
   ]
  },
  {
   "cell_type": "code",
   "execution_count": 6,
   "metadata": {},
   "outputs": [],
   "source": [
    "p_h_and_c = 0.08 + 0.11 - 0.17"
   ]
  }
 ],
 "metadata": {
  "kernelspec": {
   "display_name": "base",
   "language": "python",
   "name": "python3"
  },
  "language_info": {
   "codemirror_mode": {
    "name": "ipython",
    "version": 3
   },
   "file_extension": ".py",
   "mimetype": "text/x-python",
   "name": "python",
   "nbconvert_exporter": "python",
   "pygments_lexer": "ipython3",
   "version": "3.9.12"
  },
  "orig_nbformat": 4,
  "vscode": {
   "interpreter": {
    "hash": "d0028ce20b428eb90286e675cfc9d586ae702ba0463c3d3b035a87d9639116bc"
   }
  }
 },
 "nbformat": 4,
 "nbformat_minor": 2
}
